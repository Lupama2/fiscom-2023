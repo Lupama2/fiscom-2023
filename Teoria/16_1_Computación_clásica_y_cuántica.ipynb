{
  "nbformat": 4,
  "nbformat_minor": 0,
  "metadata": {
    "colab": {
      "provenance": [],
      "collapsed_sections": [
        "o5bKKVUG6SA5"
      ]
    },
    "kernelspec": {
      "name": "python3",
      "display_name": "Python 3"
    },
    "language_info": {
      "name": "python"
    }
  },
  "cells": [
    {
      "cell_type": "markdown",
      "source": [
        "##Máquinas de Turing\n",
        "\n",
        "\n",
        "\n"
      ],
      "metadata": {
        "id": "u9BCN0McxKLT"
      }
    },
    {
      "cell_type": "markdown",
      "source": [
        "<p align =\"justify\">Una de las herramientas fundamentales de la teoría de la computación es la máquina de Turing (TM), un modelo abstracto de computación propuesto por <a href=\"https://es.wikipedia.org/wiki/Alan_Turing\"> Alan Turing</a> en 1936. La máquina de Turing es una forma de representar formalmente el concepto de algoritmo, es decir, una serie finita de pasos que se siguen para resolver un problema.<p>\n",
        "\n",
        "<p align =\"justify\">Una <a href=https://www.youtube.com/watch?v=FTSAiF9AHN4> máquina de Turing</a> se compone de tres partes: una cinta infinita que sirve como memoria, un cabezal que puede leer y escribir símbolos en la cinta, y una tabla (programa) que indica cómo debe comportarse el cabezal según el símbolo leído y el estado interno de la máquina. La cinta está dividida en celdas, cada una de las cuales puede contener un símbolo de un alfabeto finito. El cabezal puede moverse a la izquierda o a la derecha sobre la cinta, leyendo o escribiendo un símbolo en cada movimiento. La tabla es una lista finita de reglas que determinan qué hacer en cada situación: qué símbolo escribir, en qué dirección moverse y a qué estado cambiar. <p>\n",
        "\n",
        "<p align =\"justify\">El funcionamiento de una máquina de Turing es muy simple: se parte de una configuración inicial: la cinta contiene una entrada y el cabezal está situado en una posición determinada. A partir de ahí, el cabezal lee el símbolo actual y consulta la tabla para saber qué hacer. Luego ejecuta la acción correspondiente y pasa a la siguiente configuración. Este proceso se repite hasta que la máquina llega a un estado especial llamado estado final o estado de parada, que indica que la computación ha terminado. El resultado del cómputo se puede leer en la cinta.  <p>"
      ],
      "metadata": {
        "id": "kfoWxgLZcu9X"
      }
    },
    {
      "cell_type": "markdown",
      "source": [
        "### Computación Universal\n",
        "<p align=\"justify\">Una máquina de Turing universal es una máquina de Turing capaz de simular cualquier otra máquina de Turing. Esto significa que puede ejecutar cualquier algoritmo que se pueda expresar mediante una máquina de Turing. Para ello, hay que codificar la tabla (de la máquina que se quiere simular) y los datos de entrada como símbolos en la cinta y usar una <b>tabla especial</b> que permita interpretarlos y ejecutarlos. Lo que logró Turing con su máquina universal fue  demostrar que existe un modelo único y universal de computación, que puede realizar todas las tareas computables que se puedan imaginar. No es necesario modificar la mecánica de la máquina (como se pensaba en la época) para cambiar el problema que se busca resolver. Además, la máquina de Turing es particularmente simple. <p>\n",
        "\n",
        "<p align=\"justify\">Turing demostró que cualquier problema que pueda ser resuelto por un programa de computadora puede ser resuelto por una máquina de Turing y, por lo tanto, puede ser resuelto por cualquier computadora moderna.\n",
        "<p>\n",
        "<p align=\"justify\">Turing además mostró que existen problemas que no son resolubles por una computadora. Por ejemplo, no existe ningún algoritmo que permita analizar cualquier programa con su entrada de datos y pueda decidir si el programa se detiene (termina su ejecución) luego de un número finito de pasos o sigue para siempre. Este problema se conoce como el problema de la parada o detención (Halting problem) de Turing. La importancia de este resultado radica en que establece los límites teóricos de lo que se puede computar y lo que no.<p>\n",
        "\n",
        "<p align=\"justify\">¿Qué problemas se podrán resolver con una TM?\n",
        "Turing junto con Alonzo Church (director de tesis de AT y que hizo una formulación de la computación equivalente a la de Turing) formularon la tesis de Church-Turing: Todo lo que puede ser considerado como “naturalmente” computable (o efectivamente calculable), puede ser calculado con una máquina de Turing ¡Aunque la máquina puede parecer rudimentaria, es capaz de hacer cualquier cálculo que haga una computadora! Hasta ahora no hay nada que contradiga esa tesis, ni siquiera la computación cuántica. Sin embargo, si se incluye la noción de eficiencia (que definiremos más abajo), la computación cuántica sí parece cambiar las cosas (aunque no ha sido demostrado que así sea).\n",
        "\n",
        " Es muy costoso computacionalmente, pero no imposible, simular sistemas cuánticos con una computadora clásica. Esta fue originalmente la motivación de Richard Feynman para proponer la construcción de computadoras cuánticas o aún más cerca de la motivación original, simuladores cuánticos. Construyendo una computadora cuántica uno podría simular sistemas cuánticos de manera mucho menos costosa computacionalmente. No se conoce ninguna manera de simular de manera eficiente una computadora cuántica utilizando una computadora clásica: El tamaño de la computadora clásica necesaria crece de manera polinómica con el tamaño (e.g. número de qubits) de la computadora cuántica pero el tiempo necesario lo hace de manera exponencial con dicho tamaño. Más interesante aún, al igual que con la computación clásica, es posible definir una computadora cuántica universal (regida por las leyes de la mecánica cuántica) que puede realizar cualquier operación permitida por la Mecánica cuántica. Hay indicios de que la computación cuántica es más poderosa que la clásica ya que existen algoritmos para los cuales no se conoce uno clásico que sea *eficiente*. Ej.: algoritmo de factorización de Peter Shor.\n",
        "La computación cuántica pone en duda a la llamada tesis fuerte de Church-Turing: “Una máquina de Turing puede simular eficientemente cualquier modelo razonable de computación”.<p>"
      ],
      "metadata": {
        "id": "msc0aIaL33JP"
      }
    },
    {
      "cell_type": "markdown",
      "source": [
        "##Computación clásica digital\n",
        "En una computadora clásica digital codificamos la información en una secuencia de ceros y unos (bits) de un tamaño dado ($n$) y esperamos leer el resultado como otra secuencia de $m$ bits.\n",
        "$$\n",
        "f:\\{0,1\\}^n \\to \\{0,1\\}^m\n",
        "$$\n",
        "Para simplificar el análisis es posible concentrarse en los llamados problemas de decisión,\n",
        "$$f:\\{0,1\\}^n \\to \\{0,1\\},$$ tales que para una entrada arbitraria de $n$ bits, dan una respuesta booleana $0$ o $1$ (no o sí).\n",
        "Cualquier problema se puede representar como uno de decisión (en particular podemos obtener una salida de $m$ bits como el resultado de $m$ problemas de decisión). Por ejemplo, la factorización se puede plantear haciendo preguntas del tipo: cuál es el bit i-ésimo del menor factor primo de un número, etc. Lo que puede verse afectado negativamente al plantear los problemas de esta forma es la eficiencia.\n",
        "### Compuertas lógicas\n",
        "La evaluación de cualquier problema de decisión $f(x)$ se puede reducir a una secuencia de operaciones lógicas. Dada una entrada $x = x_1 \\ldots x_n$ de $n$ bits, podemos clasificarla según $f(x)$ sea $0$ o $1$ y armar dos conjuntos. Dado el conjunto de valores de $x(a)$ tales que $f(x(a))=1$ (con $a = 1, \\ldots , k$) definimos las funciones:\n",
        "$$f^{(a)}(x)= \\delta_{x,x^{(a)}}$$\n",
        "donde $\\delta_{x,x^{(a)}}$ es la delta de Kronecker que vale **uno** is $x= x^{(a)}$ y **cero** en otro caso.\n",
        "\n",
        "Usando estas funciones podemos escribir la función original usando la puerta $\\text{OR}$ (disyunción lógica $\\lor$)\n",
        "$$\n",
        "\\begin{array}{|c|c|c|}\n",
        "\\hline\n",
        "A & B & A \\lor B \\\\\n",
        "\\hline\n",
        "0 & 0 & 0 \\\\\n",
        "0 & 1 & 1 \\\\\n",
        "1 & 0 & 1 \\\\\n",
        "1 & 1 & 1 \\\\\n",
        "\\hline\n",
        "\\end{array}\n",
        "$$\n",
        "\n",
        "$$f(x)=f^{(1)}(x) \\lor f^{(2)}(x) \\lor f^{(3)}(x) \\lor \\ldots\\lor f^{(k)}(x)$$\n",
        "\n",
        "\n",
        "\n",
        "\n",
        "Además, podemos escribir a cualquier  $f^{(a)}(x)$ usando la puerta $\\text{AND}$ (conjunción lógica $\\land$)\n",
        "\n",
        "\\begin{array}{|c|c|c|}\n",
        "\\hline\n",
        "A & B & A \\land B \\\\\n",
        "\\hline\n",
        "0 & 0 & 0 \\\\\n",
        "0 & 1 & 0 \\\\\n",
        "1 & 0 & 0 \\\\\n",
        "1 & 1 & 1 \\\\\n",
        "\\hline\n",
        "\\end{array}\n",
        "\n",
        "y la negación $\\text{NOT}$ ($\\lnot$),\n",
        "$$\n",
        "\\begin{array}{|c|c|}\n",
        "\\hline\n",
        "A & \\lnot A \\\\\n",
        "\\hline\n",
        "0 & 1 \\\\\n",
        "1 & 0 \\\\\n",
        "\\hline\n",
        "\\end{array}\n",
        "$$\n",
        "\n",
        "Por ejemplo:\n",
        " $$f^{(a)}(x)=x_1 \\land x_2 \\land x_3 \\land x_4 \\land \\ldots \\land x_n $$\n",
        "es igual a $1$ solamente si $x=1 1 1 1 1 1 \\ldots 1$.\n",
        "\n",
        "$$f^{(a)}(x)=\\lnot x_1 \\land \\lnot x_2 \\land \\lnot x_3 \\land \\lnot x_4 \\land  \\ldots \\land \\lnot x_n $$\n",
        "es $1$ solamente si $x=000000\\ldots 0$ (todos los bits de $x$ son cero).\n",
        "\n",
        "y para un valor arbitrario de  $x^{(a)}= 0110\\ldots 1$ tenemos:\n",
        "$$f^{(a)}(x)=\\lnot x_1 \\land x_2 \\land x_3 \\land \\lnot x_4 \\land \\ldots \\land x_n $$\n",
        "\n",
        "aplicando la negación o no dependiendo del valor del bit i-ésimo de  $x(a)$.\n",
        "\n",
        "Esto muestra que podemos escribir cualquier función de decisión utilizando $\\text{OR}$, $\\text{AND}$ y $\\text{NOT}$, que forman por lo tanto un **conjunto universal** de compuertas lógicas.\n",
        "\n",
        "Esto es equivalente a codificar una tabla con todas las posibles entradas y salidas, lo que no es un algoritmo muy útil en general, pero la idea de base es que podemos dar la solución a cualquier problema utilizando solo esas compuertas (y la posibilidad de copiar bits), lo que simplifica enormemente la electrónica (se puede demostrar que el número mínimo de compuertas lógicas es $1$). Por ejemplo, la compuerta NAND:\n",
        "\n",
        "\n",
        "\\begin{array}{|c|c|c|}\n",
        "\\hline\n",
        "A & B & \\lnot (A \\land B) \\\\\n",
        "\\hline\n",
        "0 & 0 & 1 \\\\\n",
        "0 & 1 & 1 \\\\\n",
        "1 & 0 & 1 \\\\\n",
        "1 & 1 & 0 \\\\\n",
        "\\hline\n",
        "\\end{array}\n",
        "\n",
        "Las operaciones $\\text{NOT}$, $\\text{AND}$ y $\\text{OR}$ se pueden construir usando $\\text{NAND}$\n",
        "- $\\lnot A = A \\, \\text{NAND} \\, A $\n",
        "- $A \\land B \\lnot (A \\, \\text{NAND} \\, B) $\n",
        "- $ A \\lor B = (\\lnot A) \\, \\text{NAND} \\, (\\lnot B) $\n",
        "\n",
        "\n",
        "\n",
        "\n",
        "\n",
        "\n"
      ],
      "metadata": {
        "id": "frqUqRZ84oxH"
      }
    },
    {
      "cell_type": "markdown",
      "source": [
        "### Complejidad\n",
        "<p align=\"justify\">Del conjunto de problemas que sí se pueden resolver, queremos definir clases de complejidad que permitan clasificar a los problemas como \"fáciles\" o “difíciles”. La dificultad se puede cuantificar con los recursos necesarios físicos (medidos en número de compuertas), tiempo y la energía necesaria. Esta clasificación permite comparar y analizar la dificultad de los problemas y las posibilidades de diseñar algoritmos eficientes para resolverlos.<p>\n",
        "\n",
        "<p align=\"justify\">Para la clasificación hay que tener en cuenta que el tiempo y espacio están relacionados (se puede hacer un procesamiento en paralelo para reducir el número de pasos de tiempo) por lo que es conveniente medir los recursos necesarios (o el tiempo) con el número de operaciones elementales.\n",
        "Para clasificar los problemas (o los algoritmos) se estudia cómo crece el número de operaciones con el número de bits de entrada (por ejemplo, el número de bits de un entero que se quiere factorizar). Se dice que un algoritmo para resolver un problema es “eficiente” si el tiempo T crece más lento que un polinomio en el número de bits de la entrada ($n$): $T < cn^k$ con $c$ y $k$ constantes. La notación asintótica para $n$ grande es $\\mathcal{O}(n^k)$. Para la clasificación se considera lo siguiente:<p>\n",
        "\n",
        "* El peor escenario posible, la entrada de $n$ bits más complicada.\n",
        "* El algoritmo tiene que modificarse de manera $uniforme$ al aumentar $n$. Tiene que ser fácil construir el algoritmo para $n + 1$ a partir del de $n$.\n",
        "* Distintos conjuntos de compuertas elementales dan un número distinto para las operaciones necesarias, pero esto no cambia la jerarquía polinomial.\n",
        "\n",
        "Se define la clase de complejidad $P$ como aquella que contiene a todos los problemas que se pueden resolver en tiempo (número de operaciones) polinomial (<i>problemas fáciles</i>). Ejemplos de problemas en $P$:\n",
        "* Sumar dos enteros $\\mathcal{O}(n)$\n",
        "* Multiplicar dos enteros $\\mathcal{O}(n^2)$.\n",
        "* Ordenar un conjunto de $N$ números $\\mathcal{O}(N \\log(N))$\n",
        "* Determinar si un número $N$ es primo o no $\\mathcal{O}(\\log(N)^6)$.\n",
        "\n",
        "La mayoría de las funciones $f:\\{0,1\\}^n\\to \\{0,1\\}$   no están en $P$ porque no hay mejor forma de evaluarlas que buscar en una tabla los valores. Para codificar dicha tabla sería necesario un espacio exponencialmente grande $\\mathcal{O}(2^n)$ y tardaríamos un tiempo exponencialmente grande en generarla. Los problemas que están en $P$ tienen suficiente estructura, tal que la función $f$ puede ser calculada de manera eficiente.\n",
        "\n",
        "Otra clase de problemas llamada $NP$ incluye aquellos para los que es fácil verificar si una solución es correcta pero no necesariamente se conoce algún algoritmo eficiente para resolverlos. Un ejemplo de problema que está en $NP$ e la factorización, si se conocen los factores solo hay que multiplicarlos (que es polinomial) para verificar si la respuesta es correcta o no. Claramente $P$ está contenido en $NP$ , si es fácil encontrar una solución también es fácil comprobar que lo es: $P ⊆ N P$ . La conjetura central de la teoría de complejidad es que $P$ es distinto de $NP$.\n",
        "\n",
        "Dentro de la clase $NP$, hay algunos problemas que son especialmente difíciles, en el sentido de que si se pudiera resolver uno de ellos en tiempo polinomial, se podría resolver cualquier otro problema $NP$ en tiempo polinomial. Estos problemas se llaman $NP$-completos, y se cree que no pertenecen a la clase $P$, aunque no se ha podido demostrar. Un ejemplo de problema $NP$-completo es el sudoku.\n",
        "\n",
        "<p align=\"justify\">Una pregunta abierta y central en la teoría de la complejidad es si para todo problema que permite verificar una solución en tiempo polinomial (está en $NP$) es posible encontrar la solución en tiempo polinomial (está en $P$). La relación entre estas dos clases es uno de los temas más importantes y abiertos de la teoría de la computación, ya que implica cuestiones fundamentales sobre la naturaleza y los límites del cómputo. El problema de si $P=^?NP$ es uno de los problemas del milenio (hay un premio de la <a href=\"http://www.claymath.org\">fundación Clay</a>  de 1M U$\\$$D). Si se demostrara que $P=NP$, significaría que hay algoritmos eficientes para resolver problemas que hoy en día se consideran intratables, como el problema del viajante o el problema de factorización de números grandes. Estos problemas tienen aplicaciones en campos tan diversos como la criptografía, la inteligencia artificial, la biología o la física. Por ejemplo, si $P=NP$, se podría romper cualquier sistema de cifrado basado en la dificultad de factorizar números grandes, como el RSA. También se podría encontrar la mejor ruta para visitar un conjunto de ciudades, obtener la configuración óptima de un sistema físico, o diseñar una molécula con propiedades deseadas. En otras palabras, si $P=NP$, se podrían resolver todos los problemas de la física con un algoritmo eficiente. Esto tendría consecuencias profundas para la ciencia, la tecnología y la sociedad. Sin embargo, la mayoría de los expertos cree que $P≠NP$, es decir, que hay problemas que se pueden verificar rápidamente pero no se pueden resolver rápidamente. Esto implicaría que hay límites fundamentales para lo que se puede computar y para lo que se puede conocer. Esto significaría que hay una diferencia esencial entre el proceso creativo y el proceso analítico tanto en el arte como en la ciencia, entre componer una sinfonía y leerla, o entre crear una teoría física y entenderla.<p>\n"
      ],
      "metadata": {
        "id": "iITLIPN78gYU"
      }
    },
    {
      "cell_type": "markdown",
      "source": [
        "## Energía y computación\n",
        "\n",
        "Hasta ahora no hablamos del costo en energía. Las compuertas $\\text{OR}$ y $\\text{AND}$ son irreversibles: a partir del resultado, no puedo inferir los bits de entrada y pierdo información al aplicar la compuerta (la compuerta $\\text{NOT}$ sí es reversible).\n",
        "\n",
        "[Landauer (1961)](http://worrydream.com/refs/Landauer%20-%20Irreversibility%20and%20Heat%20Generation%20in%20the%20Computing%20Process.pdf) mostró que la irreversibilidad tiene un costo asociado en energía. Supongamos que tenemos un bit clásico en $0$ o en $1$ y queremos ponerlo en cero (borrarlo), esto es lo mismo que eliminar la información como ocurre en una compuerta irreversible.\n",
        "\n",
        "Landauer usó un modelo mecánico para codificar la información, pero resulta en general más claro usar un modelo termodinámico. Supongamos que tenemos una caja con un tabique en el medio que la separa en dos partes. Asociamos el estado $0$ a la situación en la que todas partículas de un gas están a la izquierda del tabique y $1$ cuando están todas a la derecha. Si observo el estado del sistema antes de comenzar, puedo borrar (poner en cero el bit) la información de manera reversible: si el gas está a la izquierda, no hago nada; si el gas está a la derecha muevo un pistón de derecha a izquierda y al mismo tiempo muevo el tabique que estaba inicialmente en el medio.  \n",
        "El problema es que al hacer esto **no** estoy borrando realmente la información porque estoy haciendo una copia (al menos en mi cabeza) al observar el sistema.\n",
        "\n",
        "Es posible mostrar que si uno **no** conoce el estado del sistema, lo más eficiente para borrar la información es sacar el tabique central y luego comprimir el gas. Esto produce primero un aumento en la entropía que luego es reducida a costa de realizar trabajo sobre el sistema. Para un gas ideal tenemos\n",
        "\\begin{equation}\n",
        "\tP V= N k_B T\n",
        "\\end{equation}\n",
        "donde $P$ es la presión, $V$ el volumen del gas, $N$ el número de partículas y $T$ la temperatura.\n",
        "\n",
        "Suponemos un proceso isotérmico en el que comprimimos el gas hacia la izquierda para luego reponer el tabique.\n",
        "\n",
        "![Pistón](https://phys.libretexts.org/@api/deki/files/7901/CNX_UPhysics_20_02_WorkByExp.jpg?revision=1)\n",
        "\n",
        "El trabajo realizado es (integrando fuerza $\\times$ distancia):\n",
        "\\begin{equation}\n",
        "    W=-\\int_0^{L/2} P A dx\n",
        "\\end{equation}\n",
        "\n",
        "donde $A$ es el área de la sección transversal de la caja. Usando la ley de un gas ideal y que $V=A(L-x)$ tenemos\n",
        "\\begin{equation}\n",
        "    W=-\\int_0^{L/2} N k_B T/(L-x) dx= N k_B T\\ln(1/2)= -N k_B T\\ln(2)\n",
        "\\end{equation}\n",
        "es el trabajo perdido en el proceso irreversible que ocurre al sacar el tabique.\n",
        "$\\Delta S=N k_B \\ln 2$ es la reducción de entropía del sistema. La mejor situación para reducir el costo en energía es cuando $N=1$ (hay una sola partícula en la caja).\n",
        "\n",
        "Esto resuelve la paradoja del demonio de Maxwell que parece contradecir la segunda ley de la termodinámica: (es imposible construir una máquina que trabaje en un ciclo y que no tenga otro efecto que sacar calor de un único cuerpo para producir trabajo). El demonio tiene que observar las partículas para decidir abrir la puerta y dejar pasar alguna, entonces o recuerda para siempre la que vio o disipa energía de manera irreversible que compensa el posible trabajo ganado llevando las partículas de una lado de la caja al otro.\n",
        "\n",
        "![Demonio](https://drive.google.com/uc?export=view&id=1A3vAu_FI2b8hn3jJjiBVcYlPMDRAqW_L)\n",
        "\n",
        "Este costo energético pone un límite a la computación irreversible. En la computadoras actuales, la disipación es dos órdenes de magnitud mayor a la mínima teórica, por lo que este límite esta todavía lejos de ser un problema.\n",
        "\n",
        "Una opción para reducir este costo es enfriar el sistema a temperaturas cada vez más bajas, pero enfriar cuesta energía...\n",
        "\n",
        "De todas maneras, se puede demostrar que es posible hacer computación reversible usando [compuertas reversibles](https://link.springer.com/chapter/10.1007/3-540-10003-2_104).\n",
        "\n",
        "Para resolver un problema muy costoso computacionalmente en un \"corto tiempo\", podríamos poner la computadora a andar y irnos a hacer un viaje a velocidad cercana a la de la luz, al regreso habrán transcurrido miles de años y podemos leer el resultado. Un problema de esto es el costo en energía que cuesta el paseo relativista, aunque pudiéramos hacer todos los cómputos de manera reversible."
      ],
      "metadata": {
        "id": "xzhBktGDffmR"
      }
    },
    {
      "cell_type": "markdown",
      "source": [
        "## Simulación de una Máquina de Turing"
      ],
      "metadata": {
        "id": "o5bKKVUG6SA5"
      }
    },
    {
      "cell_type": "markdown",
      "source": [
        "El siguiente código implementa una \"máquina de Turing\" virtual. Recibe una tabla con los comandos y los estados y el estado inicial de la cinta. Evoluciona leyendo y escribiendo en la cinta y cambiando de estado hasta que llega al estado parar (\"sH\").\n",
        "\n",
        "La tabla del ejemplo calcula la paridad del número de unos en la cinta. Implementando adecuadamente la tabla (nuestro programa) podemos resolver cualquier problema que se pueda resolver con Python."
      ],
      "metadata": {
        "id": "IGIhzBVazyrV"
      }
    },
    {
      "cell_type": "code",
      "source": [
        "# Esta clase recibe el estado inicial de la \"cinta\" y la tabla con las reglas.\n",
        "# y ejecuta las reglas\n",
        "\n",
        "class TuringMachine(object):\n",
        "    def __init__(self,\n",
        "                 cinta = \"\",\n",
        "                 espacio = \" \",\n",
        "                 estado_inicial = \"\",\n",
        "                 estados_finales = None,\n",
        "                 funcion_de_transicion = None):\n",
        "        self.cinta = list(cinta)\n",
        "        self.posicion = 0\n",
        "        self.espacio = espacio\n",
        "        self.estado_actual = estado_inicial\n",
        "        if funcion_de_transicion is None:\n",
        "            self.funcion_de_transicion = {}\n",
        "        else:\n",
        "            self.funcion_de_transicion = funcion_de_transicion\n",
        "        if estados_finales is None:\n",
        "            self.estados_finales = set()\n",
        "        else:\n",
        "            self.estados_finales = set(estados_finales)\n",
        "\n",
        "    def step(self):\n",
        "        simbolo_en_pos = self.cinta[self.posicion]\n",
        "        x = (self.estado_actual, simbolo_en_pos)\n",
        "        if x in self.funcion_de_transicion:\n",
        "            y = self.funcion_de_transicion[x]\n",
        "            self.cinta[self.posicion] = y[1]\n",
        "            # move head\n",
        "            if y[2] == 'R':\n",
        "                self.posicion += 1\n",
        "                if self.posicion == len(self.cinta): # si llega al final\n",
        "                    self.cinta.append(self.espacio)  # agrega un espacio\n",
        "            else:\n",
        "                if self.posicion > 0:\n",
        "                    self.posicion -= 1\n",
        "            self.estado_actual = y[0]\n",
        "\n",
        "    def final(self):\n",
        "        if self.estado_actual in self.estados_finales:\n",
        "            return True\n",
        "        else:\n",
        "            return False\n",
        "\n",
        "    def run(self):\n",
        "        while not self.final():\n",
        "            self.step()\n",
        "\n",
        "# Máquina de Turing que escribe al final de la cinta la paridad del número de 1s\n",
        "# en el estado inicial de la cinta\n",
        "\n",
        "t = TuringMachine(\n",
        "    \"111101010100110100011101\",  # Contenido inicial de la cinta\n",
        "    estado_inicial = \"s1\",\n",
        "    estados_finales = {\"sH\"},\n",
        "    funcion_de_transicion = {\n",
        "        (\"s1\", \"1\"): (\"s2\", \"1\", \"R\"),\n",
        "        (\"s1\", \"0\"): (\"s1\", \"0\", \"R\"),\n",
        "        (\"s2\", \"1\"): (\"s1\", \"1\", \"R\"),\n",
        "        (\"s2\", \"0\"): (\"s2\", \"0\", \"R\"),\n",
        "        (\"s1\", \" \"): (\"sH\", \"0\", \"N\"),  # Escribe el \"0\" y no mueve el cabezal\n",
        "        (\"s2\", \" \"): (\"sH\", \"1\", \"N\"),  # Escribe el \"1\" y no mueve el cabezal\n",
        "    }\n",
        ")\n",
        "t.run()\n",
        "print(\"Paridad del número de 1 en el estado inicial de la cita: \", \"par\" if t.cinta[-1]== \"0\" else \"impar\")\n",
        "print(\"Estado final de la máquina:\", t.estado_actual)\n"
      ],
      "metadata": {
        "colab": {
          "base_uri": "https://localhost:8080/"
        },
        "id": "XHXMx6BCyVM5",
        "outputId": "69e74000-28da-4c59-f45f-ef9e63a043d1"
      },
      "execution_count": null,
      "outputs": [
        {
          "output_type": "stream",
          "name": "stdout",
          "text": [
            "Paridad del número de 1 en el estado inicial de la cita:  par\n",
            "Estado final de la máquina: sH\n"
          ]
        }
      ]
    },
    {
      "cell_type": "markdown",
      "source": [
        "## Representación vectorial de los **bits** y matricial de las **puertas lógicas**"
      ],
      "metadata": {
        "id": "jpU0kEon59j9"
      }
    },
    {
      "cell_type": "markdown",
      "source": [
        "\n",
        "Los bits clásicos, que pueden tomar valores $0$ o $1$, se pueden representar mediante vectores columna unitarios en un espacio bidimensional. Podemos representar a los estados posibles de un bit con vectores:\n",
        "\n",
        "$$\n",
        "|0\\rangle = \\begin{pmatrix} 1 \\\\ 0 \\end{pmatrix}, \\quad\n",
        "|1\\rangle = \\begin{pmatrix} 0 \\\\ 1 \\end{pmatrix}\n",
        "$$\n",
        "\n",
        "#### Cadenas de Bits\n",
        "Si tenemos más bits, cada estado posible se puede representar con un vector que tiene un $1$ en una posición y ceros en el resto de las posiciones. Para representar una cadena de $n$ bits, extendemos el espacio vectorial a una dimensión de $2^n$. Por ejemplo, los estados posibles de 2 bits se pueden representar con los vectores:\n",
        "\n",
        "$$\n",
        "|0\\rangle\\otimes|0\\rangle = \\begin{pmatrix} 1 \\\\ 0 \\\\ 0 \\\\ 0 \\end{pmatrix}, \\quad\n",
        "|0\\rangle\\otimes|1\\rangle = \\begin{pmatrix} 0 \\\\ 1 \\\\ 0 \\\\ 0 \\end{pmatrix}, \\quad\n",
        "|1\\rangle\\otimes|0\\rangle = \\begin{pmatrix} 0 \\\\ 0 \\\\ 1 \\\\ 0 \\end{pmatrix}, \\quad\n",
        "|1\\rangle\\otimes|1\\rangle = \\begin{pmatrix} 0 \\\\ 0 \\\\ 0 \\\\ 1 \\end{pmatrix}\n",
        "$$\n",
        "donde $\\otimes$ es la multiplicación tensorial.\n",
        "En este espacio, cada vector columna tiene módulo $1$ y representa un posible estado de un sistema de 2 bits.\n",
        "Usualmente se simplifica la notación a $|x_1\\rangle\\otimes|x_2\\rangle\\to|x_1\\rangle|x_2\\rangle \\to |x_1x_2\\rangle$.\n",
        "\n",
        "---\n",
        "###Compuertas lógicas\n",
        "Con la representación vectorial para los *bits* establecida, podemos introducir matrices que actúan sobre estos vectores para representar las operaciones de las compuertas lógicas como: NOT, AND, y OR.\n",
        "\n",
        "Cada compuerta lógica puede representarse mediante una matriz que, al multiplicarse con un vector de entrada que corresponde a un estado posible, nos da un vector de salida que corresponde a otro estado.\n",
        "\n",
        "#### Compuerta NOT\n",
        "La compuerta NOT puede representarse mediante una matriz de Pauli $X$ (también llamada $\\sigma_x$ o $\\sigma_1$), que es una matriz de $2 \\times 2$:\n",
        "\n",
        "$$\n",
        "X = \\begin{pmatrix} 0 & 1 \\\\ 1 & 0 \\end{pmatrix}\n",
        "$$\n",
        "\n",
        "Esta matriz invierte el bit de entrada, actuando de la siguiente manera:\n",
        "\n",
        "$$\n",
        "X  |0\\rangle = |1\\rangle, \\quad X  |1\\rangle = |0\\rangle.\n",
        "$$\n",
        "\n",
        "Esta es una operación reversible (es fácil ver que $X^2=I$) ya que la matriz es invertible.\n",
        "####  Compuerta AND\n",
        "La compuerta AND, que actua sobre 2 bits, se puede representar usando una matriz de $4 \\times 4$:\n",
        "\n",
        "$$\n",
        "\\text{AND} = \\begin{pmatrix} 1 & 1 & 1 & 0 \\\\ 0 & 0 & 0 & 0 \\\\ 0 & 0 & 0 & 0 \\\\ 0 & 0 & 0 & 1 \\end{pmatrix}\n",
        "$$\n",
        "\n",
        "Esta matriz opera sobre un espacio de $2$ bits, dando la salida $|0\\rangle|0\\rangle$  para las entradas $|0\\rangle|0\\rangle$, $|0\\rangle|1\\rangle$ y $|1\\rangle|0\\rangle$, y dando $|1\\rangle|1\\rangle$ para $|1\\rangle|1\\rangle$. Podemos entonces leer el resultado de la operación en el primer bit. Está claro que esta matriz no es invertible. Para codificar el resultado en uno de los bits necesitamos tener la salida $0$ en uno de los bits tres veces, pero eso significa que se va a tener que repetir un estado de salida.\n",
        "\n",
        "#### Compuerta OR\n",
        "Similarmente, la compuerta OR puede representarse con una matriz de $4 \\times 4$:\n",
        "\n",
        "$$\n",
        "\\text{OR} = \\begin{pmatrix} 1 & 0 & 0 & 0 \\\\ 0 & 0 & 0 & 0 \\\\ 0 & 0 & 0 & 0 \\\\ 0 & 1 & 1 & 1 \\end{pmatrix}\n",
        "$$\n",
        "\n",
        "Esta matriz da el resultado correcto para las entradas de dos bits, dando el resultado $|1\\rangle|1\\rangle$ para cualquier entrada que tenga al menos un bit en el estado $1$ y $|0\\rangle|0\\rangle$ como salida en otro caso. Nuevamente podemos leer el resultado de la operación lógica del primer bit.\n",
        "\n",
        "### Compuertas reversibles\n",
        "Es posible generar compuertas reversibles para realizar cualquier operación lógica. Para eso se puede usar un bit adicional. Por ejemplo para la compuerta lógica AND entre dos bits $x$ e $y$ y un bit adicional $w$, podemos pensar la operación $U_{AND}$ que actua sobre los tres bits de la forma:\n",
        "$$\n",
        "U_{AND}|x\\rangle|y\\rangle|w\\rangle= |x\\rangle|y\\rangle|w\\oplus (x \\land y)\\rangle\n",
        "$$\n",
        "Esto es, deja a los dos primeros bits sin cambiar y pone en el tercer bit el resultado de $w\\oplus (x \\land y)$, donde $\\oplus$ indica el resto de dividir por $2$ la suma [$w+ (x \\land y) \\mod 2$]. $\\oplus$ es equivalente a la operación lógica XOR (OR excluyente) que da cero si los dos valores son cero y da uno en otro caso.\n",
        "\n",
        "La operación $U_{AND}$ es invertible, de hecho, es su propia inversa: $U_{AND}^2=I$.  Poniendo el valor $w=0$ en el tercer bit, podemos leer el resultado de $x\\land y$ del mismo bit.\n",
        "\n",
        "\n",
        "Su representación matricial es de $8\\times 8$\n",
        "$$\n",
        "U_{AND}=\\begin{pmatrix}1&0&0&0&0&0&0&0\\\\\n",
        "0&1&0&0&0&0&0&0\\\\\n",
        "0&0&1&0&0&0&0&0\\\\\n",
        "0&0&0&1&0&0&0&0\\\\\n",
        "0&0&0&0&1&0&0&0\\\\\n",
        "0&0&0&0&0&1&0&0\\\\\n",
        "0&0&0&0&0&0&0&1\\\\\n",
        "0&0&0&0&0&0&1&0\\\\\n",
        "\\end{pmatrix}\n",
        "$$\n",
        "Además, esta compuerta es **universal**. A partir de esta compuerta lógica (si la podemos aplicar a cualquier conjunto de $3$ bits) podemos generar cualquier operación $f:\\{0,1\\}^n\\to\\{0,1\\}^n$. Además, una vez que leemos el resultado, podemos invertir todas las operaciones y volver a la entrada inicial, evitándonos el costo energético de borrar información."
      ],
      "metadata": {
        "id": "MQp8UE2qstoV"
      }
    },
    {
      "cell_type": "markdown",
      "source": [
        "## Computación cuántica\n",
        "\n",
        "Aunque se puede demostrar que es posible simular cualquier sistema cuántico usando una computadora clásica, no se conoce ninguna manera eficiente de hacerlo en el caso general. La motivación inicial para construir computadoras cuánticas fue justamente simular sistemas cuánticos, pero rápidamente se vio que un modelo de compuación cuántico da lugar a más posibilidades para generar algoritmos.\n",
        "La computación cuántica se puede pensar como una generalización de la computación clásica reversible.\n",
        "\n",
        "En una computadora cuántica, la información se almacena\n",
        " y procesa usando bits cuánticos o qubits. A diferencia de un bit clásico, que puede estar en un estado 0 o 1, un qubit puede existir en una superposición de estados 0 y 1. Esto se describe matemáticamente con una combinación lineal de los estados base:\n",
        "$$\n",
        "|\\psi\\rangle = \\alpha |0\\rangle + \\beta |1\\rangle\\equiv\\alpha\\begin{pmatrix}1\\\\0\\end{pmatrix} + \\beta \\begin{pmatrix}0\\\\1\\end{pmatrix}\n",
        "$$\n",
        "con $\\alpha$ y $\\beta$ números complejos. Acá $|\\alpha|^2$ es la probabilidad de encontrar el qubit en el estado $|0\\rangle$ y $|\\beta|^2$ es la probabilidad de encontrarlo en el estado $|1\\rangle$, con la restricción de que $|\\alpha|^2 + |\\beta|^2 = 1$. El estado de espín de un electrón se puede representar como una combinación lineal de ese tipo y hay otros sistemas físicos que se pueden representar de manera aproximada de esa forma (por ejemplo un dobe pozo de potencial).\n",
        "\n",
        "Si tenemos un hamiltoniano $H$ que actúa un tiempo $t$ sobre la función de onda $|\\psi\\rangle$, vamos a tener una evolución unitaria del qubit\n",
        "$$\n",
        "U(t)=e^{-i H t/\\hbar}.\n",
        "$$\n",
        "En la práctica podemos \"encender y apagar\" el hamiltoniano usando campos externos.\n",
        "\n",
        "Una transformación unitaria $U$ que actúa sobre un único qubit se puede escribir como una matriz unitaria de $2\\times 2$ que se aplica sobre los vectores de la base:\n",
        "$$\n",
        "U|\\psi\\rangle=\\alpha\\, U \\begin{pmatrix}1\\\\0\\end{pmatrix} + \\beta \\,U\\begin{pmatrix}0\\\\1\\end{pmatrix}\n",
        "$$\n",
        "\n",
        "\n",
        "\n",
        "Al igual que para la computación clásica, se puede demostrar que alcanza con un número finito de compuertas cuánticas para codificar cualquier transformación unitaria que se quiera hacer sobre un sistema de qubits.\n",
        "\n",
        "La posibilidad de usar fenómenos de interferencia cuántica y entrelazamiento permiten ampliar el tipo de algoritmos que se pueden implementar.  Uno de los algoritmos más conocidos es el algoritmo de Shor (basado en la transformada de Fourier), que puede factorizar números grandes de manera más eficiente que el mejor algoritmo conocido para computadoras clásicas. Otro algoritmo importante es el algoritmo de Grover, que permite buscar en una base de datos no ordenada con una rapidez mucho mayor que cualquier algoritmo clásico.\n",
        "\n",
        "\n",
        "\n",
        "\n",
        "\n"
      ],
      "metadata": {
        "id": "ivKs8XmYYOmi"
      }
    },
    {
      "cell_type": "markdown",
      "source": [
        "###Algoritmo de Deutsch"
      ],
      "metadata": {
        "id": "cib5zNJTvjNB"
      }
    },
    {
      "cell_type": "markdown",
      "source": [
        "El algoritmo de Deutsch es un ejemplo sencillo de algoritmo cuántico que es más eficiente que cualquier algoritmo clásico determinista (midiendo esa eficiencia con el número de evaluaciones de una función $f:\\{0,1\\}\\to \\{0,1\\}$. Esta función tiene dos entradas posibles y dos salidas posibles por lo que hay 4 posibilidades.\n",
        "- $f(x)=1$ $\\forall x$\n",
        "- $f(x)=0$ $\\forall x$\n",
        "- $f(0)=0$ y $f(1)=1$ (función identidad)\n",
        "- $f(0)=1$ y $f(1)=0$ (función NOT)\n",
        "\n",
        "Las dos primeras opciones corresponden a una función constante y las últimas dos a funciones balanceadas (hay tantos $0$ como $1$ en la salida)\n",
        "\n",
        "\n",
        "El problema que queremos resolver es determinar si $f$ es una función constante o balanceada.\n",
        "\n",
        "En una computatora clásica determinista no hay forma de responder esa pregunta sin evaluar $f$ para los dos valores posibles de $x$. Con un algoritmo cuántico es posible determinarlo con una sola evaluación.\n",
        "\n",
        "Para este algoritmo hay que tener en cuenta lo siguiente:\n",
        "\n",
        "1. Tenemos que implementar a la función $f$ como una transformación unitaria $U_f$. Como una función constante no es invertible, vamos a agregar un qubit adicional en el que vamos a codificar el resultado de aplicar la función.\n",
        "\n",
        "    Si aplicamos la función al par $U_f|x\\rangle|y\\rangle=|x\\rangle|y\\oplus f(x)\\rangle$. Para los casos de $f$ invertible conviene hacer lo mismo. Como tenemos $2$ bits, hay cuatro estados posibles.\n",
        "    \n",
        "    Por ejemplo, la función $f(x)=0$ se puede representar de la forma:\n",
        "$$\n",
        "U_f=\\begin{pmatrix}1&0&0&0\\\\\n",
        "0&1&0&0\\\\\n",
        "0&0&1&0\\\\\n",
        "0&0&0&1\\end{pmatrix}\n",
        "$$\n",
        "porque $U_f|x\\rangle|y\\rangle=|x\\rangle|y\\oplus f(x)\\rangle=|x\\rangle|y\\oplus 0\\rangle=|x\\rangle |y\\rangle$ es el operador identidad.\n",
        "\n",
        "2. Para el algoritmo de Deutsch vamos a usar la compuerta de Hadamard que **no** está disponible para computación clásica. Es una compuerta cuántica de un solo qubit que crea superposición. Está definida como:\n",
        "$$\n",
        "    U_H = \\frac{1}{\\sqrt{2}} \\begin{pmatrix} 1 & 1 \\\\ 1 & -1 \\end{pmatrix}\n",
        "$$\n",
        "Para aplicar la compuerta de Hadamard a un qubit al estado $ |0\\rangle $ o $ |1\\rangle $, hacemos una multiplicación de matriz-vector:\n",
        "$$\n",
        "U_H |0\\rangle = \\frac{1}{\\sqrt{2}} \\begin{pmatrix} 1 & 1 \\\\ 1 & -1 \\end{pmatrix} \\begin{pmatrix} 1 \\\\ 0 \\end{pmatrix} = \\frac{1}{\\sqrt{2}} \\begin{pmatrix} 1 \\\\ 1 \\end{pmatrix} = \\frac{1}{\\sqrt{2}} (|0\\rangle + |1\\rangle)\n",
        "$$\n",
        "y\n",
        "$$\n",
        "U_H |1\\rangle = \\frac{1}{\\sqrt{2}} \\begin{pmatrix} 1 & 1 \\\\ 1 & -1 \\end{pmatrix} \\begin{pmatrix} 0 \\\\ 1 \\end{pmatrix} = \\frac{1}{\\sqrt{2}} \\begin{pmatrix} 1 \\\\ -1 \\end{pmatrix} = \\frac{1}{\\sqrt{2}} (|0\\rangle - |1\\rangle)\n",
        "$$\n",
        "Los estados resultantes son superposiciones de los estados base $ |0\\rangle $ y $ |1\\rangle $.\n",
        "\n",
        "Es fácil ver $U_H^\\dagger=U_H$ y que $U_H^2=I$ por lo que $U_H$ es su propia inversa:\n",
        "$$\n",
        "U_H \\left( \\frac{1}{\\sqrt{2}} (|0\\rangle + |1\\rangle) \\right) = \\frac{1}{\\sqrt{2}} \\begin{pmatrix} 1 & 1 \\\\ 1 & -1 \\end{pmatrix} \\frac{1}{\\sqrt{2}} \\begin{pmatrix} 1 \\\\ 1 \\end{pmatrix} = \\begin{pmatrix} 1 \\\\ 0 \\end{pmatrix} = |0\\rangle\n",
        "$$\n",
        "y\n",
        "$$\n",
        "U_H \\left( \\frac{1}{\\sqrt{2}} (|0\\rangle - |1\\rangle) \\right) = \\frac{1}{\\sqrt{2}} \\begin{pmatrix} 1 & 1 \\\\ 1 & -1 \\end{pmatrix} \\frac{1}{\\sqrt{2}} \\begin{pmatrix} 1 \\\\ -1 \\end{pmatrix} = \\begin{pmatrix} 0 \\\\ 1 \\end{pmatrix} = |1\\rangle.\n",
        "$$\n",
        "\n"
      ],
      "metadata": {
        "id": "kG43qsawv1Ro"
      }
    },
    {
      "cell_type": "markdown",
      "source": [
        "**Algoritmo de Deutsch**\n",
        "\n",
        "El algoritmo tiene los siguientes pasos:\n",
        "1. Inicializamos dos bits en el estado $|\\psi\\rangle=|0\\rangle|1\\rangle$.\n",
        "2. Aplicamos la compuerta de Hadamard a cada uno de los quits: \\begin{align}(U_H\\otimes U_H)(|0\\rangle\\otimes|1\\rangle)&=U_H|0\\rangle U_H|1\\rangle\\\\\n",
        "&=\\frac{1}{2}(|0\\rangle + |1\\rangle)(|0\\rangle - |1\\rangle)\\\\\n",
        " &=\\frac{1}{2}(|0\\rangle|0\\rangle-|0\\rangle|1\\rangle+|1\\rangle|0\\rangle-|1\\rangle|1\\rangle).\\end{align}\n"
      ],
      "metadata": {
        "id": "lhhpD12B3djx"
      }
    },
    {
      "cell_type": "markdown",
      "source": [
        "3. Aplicamos la función al resultado anterior usando $U_f|x\\rangle|y\\rangle=|x\\rangle|y\\oplus f(x)\\rangle$:\n",
        "$$\\to \\frac{1}{2}(|0\\rangle|0\\oplus f(0)\\rangle-|0\\rangle|1\\oplus f(0)\\rangle+|1\\rangle|0\\oplus f(1)\\rangle-|1\\rangle|1\\oplus f(1)\\rangle)\n",
        "$$\n",
        "usamos que $0\\oplus x=x$ para cualquier valor de $x$:\n",
        "$$\\frac{1}{2}(|0\\rangle| f(0)\\rangle-|0\\rangle|1\\oplus f(0)\\rangle+|1\\rangle|f(1)\\rangle-|1\\rangle|1\\oplus f(1)\\rangle)\n",
        "$$\n",
        "reagrupamos según el estado del primer qubit:\n",
        "$$\\frac{1}{2}|0\\rangle(| f(0)\\rangle-|1\\oplus f(0)\\rangle)+\\frac{1}{2}|1\\rangle(|f(1)\\rangle-|1\\oplus f(1)\\rangle)\n",
        "$$\n",
        "usamos que $|f(x)\\rangle-|1\\oplus f(x)\\rangle =(-1)^{f(x)}(| 0\\rangle-|1\\rangle)$ para obtener:\n",
        "\n",
        "$$\n",
        "\\frac{1}{2}(-1)^{f(0)}|0\\rangle(| 0\\rangle-|1\\rangle)+\\frac{1}{2}(-1)^{f(1)}|1\\rangle(|0\\rangle-|1\\rangle)\n",
        "$$\n",
        "repartiendo factores $1/\\sqrt{2}$\n",
        "$$\\frac{(-1)^{f(0)}}{\\sqrt{2}}|0\\rangle\\frac{| 0\\rangle-|1\\rangle}{\\sqrt{2}}+\\frac{(-1)^{f(1)}}{\\sqrt{2}}|1\\rangle\\frac{|0\\rangle-|1\\rangle}{\\sqrt{2}}\n",
        "$$\n",
        "usamos que $(-1)^{x-y}=(-1)^{x\\oplus y}$ para cualquier valor de $x=\\{0,1\\}$ e $y=\\{0,1\\}$  porque solo nos interesa la paridad del exponente:\n",
        "$$\n",
        "\\frac{(-1)^{f(0)}}{\\sqrt{2}}\\left(|0\\rangle\\frac{| 0\\rangle-|1\\rangle}{\\sqrt{2}}+(-1)^{f(1)\\oplus f(0)}|1\\rangle\\frac{|0\\rangle-|1\\rangle}{\\sqrt{2}}\\right)\n",
        "$$\n",
        "y reagrupamos para obtener\n",
        "$$(-1)^{f(0)}\\left(\\frac{|0\\rangle+(-1)^{f(1)\\oplus f(0)}|1\\rangle}{\\sqrt{2}}\\right) \\left(\\frac{|0\\rangle-|1\\rangle}{\\sqrt{2}}\\right).\n",
        "$$\n"
      ],
      "metadata": {
        "id": "xUfESbcN6XKL"
      }
    },
    {
      "cell_type": "markdown",
      "source": [
        "4. Aplicamos las Hadamard nuevamente que nos llevan al estado\n",
        "$$\n",
        "\\to (-1)^{f(0)}|f(0)\\oplus f(1)\\rangle|1\\rangle\n",
        "$$\n",
        "\n",
        "5. Si la función es constante $f(0)\\oplus f(1)$ es igual a **cero** ($0 \\oplus 0 =0$ y $1\\oplus 1 =0$ ), mientras que si es balanceada es igual a **uno** ($1 \\oplus 0 =1$ y $0\\oplus 1 =1$). Si medimos en el primer qubit, el resultado nos va a dar la información que buscábamos. Vamos a medir con probabilidad $1$ el estado $|1\\rangle$ si la función $f(x)$ es constante y vamos a medir $|0\\rangle$ con la misma probabilidad si la función es balanceada.\n"
      ],
      "metadata": {
        "id": "etyjAuy_55dv"
      }
    },
    {
      "cell_type": "markdown",
      "source": [
        "Este algoritmo usa una especie procesamiento en paralelo. Al aplicar la función $U_f$ al estado superposición, calculamos el valor de la función para los dos valores posibles de $x$. Sin embargo no podemos obtener todos los valores de $f(x)$ directamente de\n",
        "\\begin{align}\n",
        "U_H|0\\rangle \\otimes|0\\rangle&=\\frac{1}{\\sqrt{2}}(|0\\rangle+|1\\rangle)|0\\rangle\\\\\n",
        "&=\\frac{1}{\\sqrt{2}}(|0\\rangle| f(0)\\rangle+|1\\rangle|f(1)\\rangle)\n",
        "\\end{align}\n",
        "\n",
        " Si hacemos una medición, el estado cuántico va a colapsar a una de las dos posibilidades.\n",
        "\n",
        " El algoritmo de Deutsch usa, además del paralelismo, la interferencia cuántica para obtener la información deseada.\n",
        "\n",
        " Es posible generalizarlo a $n$ bits y determinar si la función es constante o balanceada con una sola evaluación de $f(x)$. Un algoritmo clásico determinista necesitaría un número exponencial ($2^{n-1}+1$) de evaluaciones."
      ],
      "metadata": {
        "id": "lT3SRd5G2-ci"
      }
    },
    {
      "cell_type": "markdown",
      "source": [
        "**Referencias**\n",
        "1. Nielsen, M. A., & Chuang, I. L. (2010). Quantum computation and quantum information. Cambridge university press.\n",
        "2. Aaronson, S. (2013). Quantum computing since Democritus. Cambridge University Press.\n",
        "3. Preskill, J. (1998). [Lecture notes for physics 229](http://www2.fiit.stuba.sk/~kvasnicka/QuantumComputing/PreskilTextbook_all.pdf): Quantum information and computation. California Institute of Technology.\n"
      ],
      "metadata": {
        "id": "zOht-E9oW26z"
      }
    }
  ]
}