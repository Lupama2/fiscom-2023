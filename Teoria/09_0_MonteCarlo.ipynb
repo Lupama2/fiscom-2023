{
  "nbformat": 4,
  "nbformat_minor": 0,
  "metadata": {
    "colab": {
      "provenance": []
    },
    "kernelspec": {
      "name": "python3",
      "display_name": "Python 3"
    },
    "language_info": {
      "name": "python"
    }
  },
  "cells": [
    {
      "cell_type": "markdown",
      "source": [
        "\n",
        "#Métodos de Monte Carlo"
      ],
      "metadata": {
        "id": "eWw3rIUtT9p1"
      }
    },
    {
      "cell_type": "markdown",
      "source": [
        "Los métodos de Monte Carlo son una categoría de algoritmos computacionales que usan técnicas de muestreo estadístico para obtener estimaciones numéricas. Estos algoritmos resultan especialmente útiles para problemas que son analíticamente intratables o que tienen un alto costo computacional. A diferencia de los métodos deterministas, que necesitan una formulación analítica precisa del problema, los métodos de Monte Carlo generan soluciones aproximadas mediante la ejecución de muchos experimentos de muestreo aleatorio.\n",
        "\n",
        "El nombre \"Monte Carlo\" viene de la aleatoriedad intrínseca en el método, haciendo una analogía con los juegos de azar practicados en el Casino de Monte Carlo en Mónaco.  El método surgió durante la realización del Proyecto Manhattan, donde Stanislaw Ulam y John von Neumann aplicaban técnicas computacionales para tratar problemas en física nuclear. Se le atribuye a Ulam la idea inicial del método, que surgió mientras se recuperaba de una enfermedad y jugaba al solitario. Ulam buscaba estimar la probabilidad de ganar y se dio cuenta de que un muestreo aleatorio de posibles resultados era más eficiente que un cálculo analítico. Al analizar la idea con John von Neumann, se dieron quenta de que el método podía extenderse para resolver una amplia gama de problemas de física estadística.\n",
        "\n",
        "Actualmente encuentra aplicaciones en diversas disciplinas, incluyendo matemáticas, física, finanzas e inteligencia artificial.\n",
        "\n",
        "Dada la amplitud del tema, solo vamos a ver los conceptos fundamentales.\n",
        "\n",
        "Para ilustrar la aplicación del método, vamos a usarlo primero para calcular $\\pi$"
      ],
      "metadata": {
        "id": "VLh24VNTaONZ"
      }
    },
    {
      "cell_type": "markdown",
      "source": [
        "## Cálculo de $\\pi$ usando números al azar\n",
        "\n",
        "Tomamos un cículo de radio $1$ inscrito en un cuadrado\n",
        "\n",
        "![circ](https://drive.google.com/uc?export=view&id=1BH3PCs2R3zrNco2n39tZvlAQa0J2ogco)\n",
        "\n",
        " y tiramos al azar $N_\\square$ puntos dentro del cuadrado. Esto es, puntos $(x,y)$ donde tanto $x$ como $y$ son variables aleatorias con distribución uniforme(-1,1).\n",
        "\n",
        "Esperamos que el número de puntos que caen dentro del círculo $N_{\\circ}$ sea $N_\\square$ multiplicado por al área del círculo dividida por el área del cuadrado:\n",
        "\n",
        "$$N_{\\circ} \\simeq N_\\square\\frac{\\pi}{4}.$$\n",
        "Por lo que podemos obtener una aproximación para $\\pi$ de\n",
        "$$\\pi\\simeq \\frac{4N_{\\circ}}{N_\\square}$$\n",
        "\n",
        "\n",
        "\n"
      ],
      "metadata": {
        "id": "yjM6MWX4Mqhq"
      }
    },
    {
      "cell_type": "code",
      "execution_count": null,
      "metadata": {
        "colab": {
          "base_uri": "https://localhost:8080/"
        },
        "id": "3lFG-KmkP1LZ",
        "outputId": "94f84e39-5238-484b-c2ac-5e262e5764e7"
      },
      "outputs": [
        {
          "output_type": "stream",
          "name": "stdout",
          "text": [
            "3.1532\n"
          ]
        }
      ],
      "source": [
        "import random\n",
        "\n",
        "def calcula_pi(puntos_en_cuadrado):\n",
        "    puntos_en_circulo = 0\n",
        "\n",
        "    for _ in range(puntos_en_cuadrado):\n",
        "        x = random.uniform(-1, 1)\n",
        "        y = random.uniform(-1, 1)\n",
        "\n",
        "        distancia = x**2 + y**2\n",
        "\n",
        "        if distancia <= 1:\n",
        "            puntos_en_circulo += 1\n",
        "\n",
        "    return 4 * puntos_en_circulo / puntos_en_cuadrado\n",
        "\n",
        "print(calcula_pi(10000))\n"
      ]
    },
    {
      "cell_type": "markdown",
      "source": [
        "###Modificando el número de puntos"
      ],
      "metadata": {
        "id": "fkFroGklQh9U"
      }
    },
    {
      "cell_type": "code",
      "source": [
        "import numpy as np\n",
        "\n",
        "print(\"N mi_pi error $1/\\\\sqrt{N}$\")\n",
        "for i in range(1,9):\n",
        "    n = 10**i\n",
        "    mi_pi= calcula_pi(n)\n",
        "    print(n, mi_pi, abs(mi_pi-np.pi)/np.pi, 1/np.sqrt(n))"
      ],
      "metadata": {
        "colab": {
          "base_uri": "https://localhost:8080/"
        },
        "id": "CdiDWsIAP27T",
        "outputId": "5b666193-e8d0-4218-a526-af2cdb100f6d"
      },
      "execution_count": null,
      "outputs": [
        {
          "output_type": "stream",
          "name": "stdout",
          "text": [
            "N mi_pi error $1/\\sqrt{N}$\n",
            "10 3.2 0.018591635788130244 0.31622776601683794\n",
            "100 3.16 0.005859240340778607 0.1\n",
            "1000 3.188 0.014771917153924754 0.03162277660168379\n",
            "10000 3.1544 0.004076704978149292 0.01\n",
            "100000 3.14248 0.0002824511348385294 0.003162277660168379\n",
            "1000000 3.138464 0.00099588136807558 0.001\n",
            "10000000 3.1424032 0.0002580049355796181 0.00031622776601683794\n",
            "100000000 3.14137716 6.859374004045337e-05 0.0001\n"
          ]
        }
      ]
    },
    {
      "cell_type": "markdown",
      "source": [
        "* ¿Cómo decrece el error con el número de puntos?"
      ],
      "metadata": {
        "id": "kwAfyvicK2yj"
      }
    },
    {
      "cell_type": "markdown",
      "source": [
        "### Error en la integración\n",
        "\n",
        "Sea $ f(x) $ una función que deseamos integrar sobre un dominio $ D $. La integral\n",
        "$$\n",
        "I = \\int_{D} f(x) \\, dx\n",
        "$$\n",
        "puede ser aproximada utilizando métodos de Monte Carlo de la siguiente manera:\n",
        "$$\n",
        "I\\sim \\frac{1}{N} \\sum_{i=1}^{N} f(x_i),\n",
        "$$\n",
        "donde $ x_i $ son puntos muestreados aleatoriamente dentro de $ D $ y $ N $ es el número de muestras.\n",
        "\n",
        "El error en la integración de Monte Carlo disminuye como $ \\frac{1}{\\sqrt{N}}$, donde $ N $ es el número de muestras aleatorias. Esto se entiende a partir del Teorema del Límite Central y la Ley de los Grandes Números.\n",
        "\n",
        "El Teorema del Límite Central establece que el promedio de un gran número de variables aleatorias independientes e idénticamente distribuidas es aproximadamente normal, independientemente de la distribución original de las variables. La desviación estándar de esta distribución normal (error estándar) es proporcional a $ \\frac{\\sigma}{\\sqrt{N}} $, donde $ \\sigma $ es la desviación estándar de la distribución original.\n",
        "\n",
        "A medida que aumentamos el número de muestras aleatorias, el promedio de las muestras tiende a converger al valor esperado (o media verdadera) de la distribución subyacente. Esto se conoce como la Ley de los Grandes Números.\n",
        "\n",
        "En la integración de Monte Carlo, la integral se estima como el promedio de los valores de la función en puntos elegidos al azar. A medida que el número de muestras $ N $ aumenta, el promedio se acerca a la media verdadera (valor de la integral) debido a la Ley de los Grandes Números. La variabilidad en esta estimación disminuye como $ \\frac{1}{\\sqrt{N}} $.\n"
      ],
      "metadata": {
        "id": "Ih5ac06-kxWl"
      }
    },
    {
      "cell_type": "markdown",
      "source": [
        "#Cadena de Markov\n",
        "\n",
        "Veamos otra forma de generar puntos dentro del cuadrado que va a ser útil para otras situaciones más complejas.\n",
        "Partimos de la esquina superior derecha del cuadrado y proponemos un desplazamiento elegido de manera aleatoria. El objetivo es, como en el caso anterior, recorrer todo el cuadrado de manera uniforme y contar los puntos dentro del círculo. Este es un ejemplo de lo que se conoce como *cadena de Markov*, que veremos de manera más general más adelante.\n",
        "\n",
        "Al hacer esto tenemos que tomar varias decisiones. Por un lado elegir el tamaño del desplazamiento, teniendo en cuenta que vamos a dar un número finito de pasos.\n",
        "\n",
        "Si lo elegimos muy corto no vamos a avanzar lo suficiente dentro del cuadrado. Si lo elegimos demasiado grande muy frecuentemente el desplazamiento nos va a llevar afuera del cuadrado.\n",
        "\n",
        "Este último punto es también importante. ¿Qué hacemos si el desplazamiento nos lleva afuera? La respuesta es que tenemos que rechazar el desplazamiento (no realizarlo). Esto es, dejar al punto dentro del cuadrado y contarlo (**no** descartarlo). Si Rechazamos muchas movidas es posible que contemos muchos puntos que están en el mismo lugar, pero eso es correcto.\n"
      ],
      "metadata": {
        "id": "lZd0UOwzU0jl"
      }
    },
    {
      "cell_type": "code",
      "source": [
        "import random\n",
        "\n",
        "# Comienza en la esquina superior derecha\n",
        "x, y = 1.0, 1.0\n",
        "# paso\n",
        "delta = 1.2\n",
        "\n",
        "rechazos = 0\n",
        "\n",
        "n_pasos = 40000\n",
        "n_circulo = 0\n",
        "for i in range(n_pasos):\n",
        "    del_x, del_y = random.uniform(-delta, delta), random.uniform(-delta, delta)\n",
        "    if abs(x + del_x) < 1.0 and abs(y + del_y) < 1.0:\n",
        "        x, y = x + del_x, y + del_y\n",
        "    else:\n",
        "        rechazos += 1\n",
        "    if x**2 + y**2 < 1.0: n_circulo += 1\n",
        "print (\"Pi ~ \",(4.0 * n_circulo) / n_pasos)\n",
        "print (\"Rechazos = \", rechazos/n_pasos)\n"
      ],
      "metadata": {
        "colab": {
          "base_uri": "https://localhost:8080/"
        },
        "id": "OmXJvxVOU0GC",
        "outputId": "8c291a0c-2cd0-4812-d634-05991e1bb7eb"
      },
      "execution_count": null,
      "outputs": [
        {
          "output_type": "stream",
          "name": "stdout",
          "text": [
            "Pi ~  3.1452\n",
            "Rechazos =  0.5053\n"
          ]
        }
      ]
    },
    {
      "cell_type": "markdown",
      "source": [
        "\n",
        "El número de rechazos suele ser un buen indicador de cuan bien estamos recorriendo el espacio de parámetros del sistema. La regla empírica es que tenemos que buscar rechazar la mitad de los desplazamientos. Si rechazamos demasiadas movidas quizás el paso que elegimos es demasiado grande y nos estamos yendo afuera del cuadrado demasiado seguido (no lo estamos recorriendo). Si no rechazamos casi nunca, el paso puede ser demasiado chico y nunca nos acercamos al borde.\n",
        "\n",
        "El hecho de que tengamos que dejar el punto en el mismo lugar y contarlo cuando rechazamos una movida es algo que dio lugar a mucha discusión cuando se presentó el método. Es un poco confuso porque a los puntos cerca del borde los vamos a contabilizar muchas veces (puede haber muchos rechazos) mientras que esto no va a pasar para los del medio."
      ],
      "metadata": {
        "id": "FubtS_hVHj4C"
      }
    },
    {
      "cell_type": "markdown",
      "source": [
        "##¿Por qué hay contar el punto cuando el desplazamiento es rechazado?\n",
        "\n",
        "Para ver esto vamos a discretizar el problema a una red de $3\\times 3$. (ver el excelente [curso online](https://www.coursera.org/learn/statistical-mechanics) y el libro de Werner Krauth para más detalles)"
      ],
      "metadata": {
        "id": "94lUYmo2IsMb"
      }
    },
    {
      "cell_type": "code",
      "source": [
        "# @title\n",
        "import matplotlib.pyplot as plt\n",
        "import matplotlib.patches as patches\n",
        "\n",
        "fig, ax = plt.subplots()\n",
        "\n",
        "ax.set_xticks([0, 1, 2, 3])\n",
        "ax.set_yticks([0, 1, 2, 3])\n",
        "ax.grid(True)\n",
        "\n",
        "circle = patches.Circle((2.5, 2.5), 0.4, fill=True)\n",
        "for i in range(3):\n",
        "    for j in range(3):\n",
        "        celda = i + 3 *j\n",
        "        ax.text(i + 0.5, j + 0.5, f'{celda}')\n",
        "ax.add_patch(circle)\n",
        "\n",
        "ax.set_xlim(0, 3)\n",
        "ax.set_ylim(0, 3)\n",
        "ax.set_aspect('equal')\n",
        "ax.set_xticklabels([])\n",
        "ax.set_yticklabels([])\n",
        "plt.show()\n"
      ],
      "metadata": {
        "colab": {
          "base_uri": "https://localhost:8080/",
          "height": 411
        },
        "id": "Vf5oAvZXKGmt",
        "outputId": "6274bcca-2f9d-4073-a51a-7cf4b2a13336",
        "cellView": "form"
      },
      "execution_count": null,
      "outputs": [
        {
          "output_type": "display_data",
          "data": {
            "text/plain": [
              "<Figure size 640x480 with 1 Axes>"
            ],
            "image/png": "[encoded data removed]"
          },
          "metadata": {}
        }
      ]
    },
    {
      "cell_type": "markdown",
      "source": [
        "El disco (o caminante aleatorio) solo puede moverse en la dirección horizontal o vertical. A cada paso de tiempo tiramos un número al azar entre 0 y 3 para decidir en qué dirección se va a mover: derecha, arriba, izquierda o abajo.  \n",
        "Lo que buscamos es que para un número grande de movimientos el disco haya estado la misma cantidad de veces en cada cuadrado. Esto es, recorrer de manera uniforme toda la grilla.\n",
        "\n"
      ],
      "metadata": {
        "id": "xWCNMDffK8d0"
      }
    },
    {
      "cell_type": "code",
      "source": [
        "import random\n",
        "\n",
        "# Tamaño de la grilla\n",
        "Ng = 3\n",
        "Nceldas = Ng * Ng\n",
        "\n",
        "# Dada una posición y un movimiento propuesto da la siguiente celda\n",
        "def veccel(i, j, move):\n",
        "    nx = i + move[0]\n",
        "    ny = j + move[1]\n",
        "    if( nx < 0 or nx  == Ng or  ny < 0 or ny == Ng):\n",
        "        return i + Ng * j # si me voy a salir de la grilla me quedo donde estaba\n",
        "    return nx + Ng * ny # nueva celda\n",
        "\n",
        "# Movidas posibles: derecha, arriba, izquierda, abajo\n",
        "moves = [[1,0], [0,1], [-1,0], [0,-1]]\n",
        "\n",
        "# Generamos una lista de vecinos considerando los casos de rechazo\n",
        "vecinos = []\n",
        "for j in range(Ng):\n",
        "    for i in range(Ng):\n",
        "        vec_c = []\n",
        "        for k in range(len(moves)):\n",
        "            vec_c.append(veccel(i,j, moves[k]))\n",
        "        vecinos.append(vec_c)\n",
        "print(\"Listado de celdas vecinas\", vecinos)\n",
        "\n",
        "# Lista con Nceldas valores inicializados es 0\n",
        "histo = [0 for _ in range(Nceldas)]\n",
        "\n",
        "# Número de movimientos a proponer\n",
        "num_pasos = 100000\n",
        "\n",
        "# Posición inicial\n",
        "pos = 8\n",
        "\n",
        "for _ in range(num_pasos):\n",
        "    pos = vecinos[pos][random.randint(0, 3)]\n",
        "    histo[pos] +=1\n",
        "\n",
        "print(\"Visitas esperadas en cada celda: \", int(num_pasos/Nceldas))\n",
        "for i in range(Nceldas):\n",
        "    print(f\"Celda {i} fue visitada {histo[i]} veces\")\n"
      ],
      "metadata": {
        "colab": {
          "base_uri": "https://localhost:8080/"
        },
        "id": "bic0RsKgQaGJ",
        "outputId": "d9a54b92-0e2a-49b0-86cf-aa2a7a4370a4"
      },
      "execution_count": null,
      "outputs": [
        {
          "output_type": "stream",
          "name": "stdout",
          "text": [
            "Listado de celdas vecinas [[1, 3, 0, 0], [2, 4, 0, 1], [2, 5, 1, 2], [4, 6, 3, 0], [5, 7, 3, 1], [5, 8, 4, 2], [7, 6, 6, 3], [8, 7, 6, 4], [8, 8, 7, 5]]\n",
            "Visitas esperadas en cada celda:  11111\n",
            "Celda 0 fue visitada 11186 veces\n",
            "Celda 1 fue visitada 11054 veces\n",
            "Celda 2 fue visitada 11153 veces\n",
            "Celda 3 fue visitada 10979 veces\n",
            "Celda 4 fue visitada 11089 veces\n",
            "Celda 5 fue visitada 11056 veces\n",
            "Celda 6 fue visitada 10997 veces\n",
            "Celda 7 fue visitada 11168 veces\n",
            "Celda 8 fue visitada 11318 veces\n"
          ]
        }
      ]
    },
    {
      "cell_type": "markdown",
      "source": [
        "##Balance detallado\n",
        "Esta forma de decidir qué hacer en el borde (quedarnos con el punto cuando rechazamos el cambio)funciona. ¿Por qué?\n",
        "\n",
        "\n",
        "Consideremos la situación en la esquina superior derecha (celda 8).\n",
        "\n",
        "Queremos que la probabilidad de encontrar a nuestro disco en esa celda sea $p_8=\\frac{1}{9}$ al igual que sus celdas vecinas $p_5=p_7=p_8$.\n",
        "\n",
        "De la celda $8$ podemos pasar a las celdas vecinas con probabilidades que llamamos $p_{8\\to 5}$ y  $p_{8\\to 7}$. Vamos a definir también una probabilidad de que se quede en la celda  $p_{8\\to 8}$.\n",
        "\n",
        "La condición de que la probabilidad total esté normalizada a $1$ nos dice que\n",
        "$$\n",
        "  p_{8\\to 8} + p_{8\\to 5} + p_{8\\to 7}=1\n",
        "$$\n",
        "esto es, o se queda o se va.\n",
        "\n",
        "Podemos relacionar las probabilidades buscadas $p_i$ con las probabilidades de transición $p_{i\\to j}$ usando:\n",
        "\n",
        "$$\n",
        "p_8 = p_{7}\\, p_{7\\to 8} + p_5\\, p_{5\\to 8} + p_8\\, p_{8\\to 8}\n",
        "$$\n",
        "esto es, la probabilidad de encontrar el disco en la celda $8$ es la probabilidad de que haya estado en una celda vecina y saltado a la celda $8$ sumado a la probabilidad de que haya estado ahí y se quede.\n",
        "\n",
        "Reordenando:\n",
        "$$\n",
        "p_8\\,(1- p_{8\\to 8}) = p_{7}\\, p_{7\\to 8} + p_5\\, p_{5\\to 8}\n",
        "$$\n",
        "\n",
        "y usando la ecuación de la normalización a 1:\n",
        "$$\n",
        "p_8\\,(p_{8\\to 5} + p_{8\\to 7}) = p_{7}\\, p_{7\\to 8} + p_5\\, p_{5\\to 8}\n",
        "$$\n",
        "\n",
        "o\n",
        "$$\n",
        "p_8\\,p_{8\\to 5} + p_8\\,p_{8\\to 7} = p_{7}\\, p_{7\\to 8} + p_5\\, p_{5\\to 8}\n",
        "$$\n",
        "esta condición se conoce como de balance global.  \n",
        "Aunque no es la única forma de hacerlo, podemos satisfacer esta ecuación si tomamos\n",
        "\n",
        "\\begin{align}\n",
        "p_8\\,p_{8\\to 5} =  p_5\\, p_{5\\to 8} \\\\\n",
        "p_8\\,p_{8\\to 7} = p_7\\, p_{7\\to 8}\n",
        "\\end{align}\n",
        "que se conoce como la condición de balance detallado.\n",
        "En el caso que nos interesa ahora buscamos $p_i=\\text{cte}.$, por lo que nos queda\n",
        "\\begin{align}\n",
        "p_{8\\to 5} = p_{5\\to 8} \\\\\n",
        "p_{8\\to 7} = p_{7\\to 8}\n",
        "\\end{align}\n",
        "\n",
        "Pero esta idea repetida en las otras celdas nos lleva a que todas las probabilidades de transición tienen que ser iguales $p_{i\\to j}=\\text{cte}.$ para todo par de celdas vecinas. Si miramos la celda central vemos que $p_{4\\to j}=\\frac{1}{4}$ para todos los $j$ vecinos.\n",
        "Volviendo a la ecuación para la celda 8 nos queda que $p_{8\\to 8}=\\frac{1}{2}$ como elegimos para nuestro código. Tenemos una probabilidad $1/2$ de intentar salir de la grilla.\n"
      ],
      "metadata": {
        "id": "Wph0Zf1jWfRK"
      }
    },
    {
      "cell_type": "markdown",
      "source": [
        "##Matriz de de transferencia\n",
        "\n"
      ],
      "metadata": {
        "id": "oPtnsgmmnWtI"
      }
    },
    {
      "cell_type": "markdown",
      "source": [
        "Supongamos que la probabilidad de encontrar al disco en la posición $i$ de la grilla en el paso tiempo $t$ está dado por $\\pi_i^t$ ($t$ es un superíndice no una potencia). Podemos escribir estas probabilidades como un vector:\n",
        "$$\n",
        "\\mathbf{\\pi}^t=\\begin{pmatrix}\\pi_0^t\\\\\n",
        "\\pi_1^t\\\\\n",
        "\\vdots\\\\\n",
        "\\pi_8^t\\\\\n",
        "\\end{pmatrix}\n",
        "$$\n",
        "Por ejemplo, si a tiempo $t=0$ del disco está en la casilla 8, tenemos $\\pi_8^0=1$ y el resto de las probabilidades es igual a $0$. Se tiene que cumplir que $\\sum_i \\pi_i^t=1$ (ojo, en general el vector no tiene norma 1).\n",
        "\n",
        "Queremos ver cómo evolucionan estas probabilidades en un paso de tiempo, para eso vamos a usar la matriz de transferencia:\n",
        "\n",
        "$$\n",
        "\\mathbf{\\pi}^{t+1}=\\begin{pmatrix}\n",
        "p_{0\\to 0} &p_{1\\to 0}&\\cdots& p_{8\\to 0}\\\\\n",
        "p_{0\\to 1} &p_{1\\to 1}&\\cdots& p_{8\\to 1}\\\\\n",
        "\\cdots & \\cdots &\\cdots&\\cdots\\\\\n",
        "p_{0\\to 8} &p_{1\\to 8}&\\cdots& p_{8\\to 8}\\\\\n",
        "\\end{pmatrix}\\mathbf{\\pi}^{t}\n",
        "$$\n",
        "Completando los valores:\n",
        "$$\n",
        "\\mathbf{\\pi}^{t+1}=\\begin{pmatrix}\n",
        "\\frac{1}{2} &\\frac{1}{4}&0&\\frac{1}{4}&0&0&0&0&0\\\\\n",
        "\\frac{1}{4} &\\frac{1}{4}&\\frac{1}{4}&0&\\frac{1}{4}&0&0&0&0\\\\\n",
        "0 & \\frac{1}{4}&\\frac{1}{2}& 0&0&\\frac{1}{4}&0&0&0\\\\\n",
        "\\frac{1}{4}& 0&0&\\frac{1}{4} &\\frac{1}{4}&0&\\frac{1}{4}&0&0 \\\\\n",
        "0& \\frac{1}{4}&0&\\frac{1}{4}&0&\\frac{1}{4}&0&\\frac{1}{4}&0\\\\\n",
        "0&0&\\frac{1}{4}&0&\\frac{1}{4}&\\frac{1}{4}&0&0&\\frac{1}{4} \\\\\n",
        "0&0&0&\\frac{1}{4} &0&0&\\frac{1}{2}&\\frac{1}{4} &0\\\\\n",
        "0&0&0&0&\\frac{1}{4} &0&\\frac{1}{4}&\\frac{1}{4}&\\frac{1}{4} \\\\\n",
        "0&0&0&0&0&\\frac{1}{4} &0&\\frac{1}{4}&\\frac{1}{2} \\\\\n",
        "\\end{pmatrix}\\mathbf{\\pi}^{t}\n",
        "$$\n",
        "\n",
        "En el código siguiente usamos la matriz de transferencia para ver cómo evolucionan las probabilidades con el paso de tiempo. Partimos de la celda $8$ (probabilidad 1 para esa celda y cero para las otras) y lo único que tenemos que hacer es aplicar la matriz para obtener las probabilidades en función del número de pasos."
      ],
      "metadata": {
        "id": "v1LI3swToEWd"
      }
    },
    {
      "cell_type": "code",
      "source": [
        "import numpy as np\n",
        "\n",
        "# Vector de probabilidades\n",
        "# A tiempo cero está en la casilla 8\n",
        "p = np.zeros(9)\n",
        "p[8]=1\n",
        "print(\"t=0\", p)\n",
        "\n",
        "# Matriz de transferencia\n",
        "matrix = np.array([\n",
        "    [1/2, 1/4, 0, 1/4, 0, 0, 0, 0, 0],\n",
        "    [1/4, 1/4, 1/4, 0, 1/4, 0, 0, 0, 0],\n",
        "    [0, 1/4, 1/2, 0, 0, 1/4, 0, 0, 0],\n",
        "    [1/4, 0, 0, 1/4, 1/4, 0, 1/4, 0, 0],\n",
        "    [0, 1/4, 0, 1/4, 0, 1/4, 0, 1/4, 0],\n",
        "    [0, 0, 1/4, 0, 1/4, 1/4, 0, 0, 1/4],\n",
        "    [0, 0, 0, 1/4, 0, 0, 1/2, 1/4, 0],\n",
        "    [0, 0, 0, 0, 1/4, 0, 1/4, 1/4, 1/4],\n",
        "    [0, 0, 0, 0, 0, 1/4, 0, 1/4, 1/2]\n",
        "])\n",
        "\n",
        "# Iteramos\n",
        "for t in range(1,65):\n",
        "    p = np.dot(matrix,p)\n",
        "    print(f\"t={t}\",p)\n"
      ],
      "metadata": {
        "colab": {
          "base_uri": "https://localhost:8080/"
        },
        "id": "d34ca53jEROm",
        "outputId": "28ddd892-e166-4091-9192-4fca0d6d88ef"
      },
      "execution_count": null,
      "outputs": [
        {
          "output_type": "stream",
          "name": "stdout",
          "text": [
            "t=0 [0. 0. 0. 0. 0. 0. 0. 0. 1.]\n",
            "t=1 [0.   0.   0.   0.   0.   0.25 0.   0.25 0.5 ]\n",
            "t=2 [0.     0.     0.0625 0.     0.125  0.1875 0.0625 0.1875 0.375 ]\n",
            "t=3 [0.       0.046875 0.078125 0.046875 0.09375  0.1875   0.078125 0.1875\n",
            " 0.28125 ]\n",
            "t=4 [0.0234375  0.0546875  0.09765625 0.0546875  0.1171875  0.16015625\n",
            " 0.09765625 0.16015625 0.234375  ]\n",
            "t=5 [0.0390625  0.07324219 0.10253906 0.07324219 0.10742188 0.15234375\n",
            " 0.10253906 0.15234375 0.19726562]\n",
            "t=6 [0.05615234 0.08056641 0.10766602 0.08056641 0.11279297 0.13989258\n",
            " 0.10766602 0.13989258 0.17480469]\n",
            "t=7 [0.06835938 0.08929443 0.10894775 0.08929443 0.11022949 0.13378906\n",
            " 0.10894775 0.13378906 0.15734863]\n",
            "t=8 [0.0788269  0.09420776 0.11024475 0.09420776 0.11154175 0.12757874\n",
            " 0.11024475 0.12757874 0.14556885]\n",
            "t=9 [0.08651733 0.09870529 0.110569   0.09870529 0.11089325 0.12373352\n",
            " 0.110569   0.12373352 0.13657379]\n",
            "t=10 [0.09261131 0.10167122 0.1108942  0.10167122 0.11121941 0.12044239\n",
            " 0.1108942  0.12044239 0.13015366]\n",
            "t=11 [0.09714127 0.10409904 0.1109755  0.10409904 0.1110568  0.11817741\n",
            " 0.1109755  0.11817741 0.12529802]\n",
            "t=12 [0.10062015 0.10581815 0.11105686 0.10581815 0.11113822 0.11637694\n",
            " 0.11105686 0.11637694 0.12173772]\n",
            "t=13 [0.10321915 0.10715835 0.1110772  0.10715835 0.11109754 0.11507744\n",
            " 0.1110772  0.11507744 0.11905733]\n",
            "t=14 [0.10518875 0.10813806 0.11109755 0.10813806 0.11111789 0.11407738\n",
            " 0.11109755 0.11407738 0.11706738]\n",
            "t=15 [0.10666341 0.10888556 0.11110263 0.10888556 0.11110772 0.11334005\n",
            " 0.11110263 0.11334005 0.11557238]\n",
            "t=16 [0.10777448 0.10943983 0.11110772 0.10943983 0.11111281 0.1127807\n",
            " 0.11110772 0.1127807  0.11445621]\n",
            "t=17 [0.10860716 0.10985871 0.11110899 0.10985871 0.11111026 0.11236436\n",
            " 0.11110899 0.11236436 0.11361846]\n",
            "t=18 [0.10923293 0.11017128 0.11111026 0.11017128 0.11111153 0.11205052\n",
            " 0.11111026 0.11205052 0.11299141]\n",
            "t=19 [0.10970211 0.1104065  0.11111058 0.1104065  0.1111109  0.11181593\n",
            " 0.11111058 0.11181593 0.11252096]\n",
            "t=20 [0.11005431 0.11058252 0.1111109  0.11058252 0.11111122 0.11163959\n",
            " 0.1111109  0.11163959 0.11216845]\n",
            "t=21 [0.11031841 0.11071474 0.11111098 0.11071474 0.11111106 0.11150754\n",
            " 0.11111098 0.11150754 0.11190402]\n",
            "t=22 [0.11051658 0.1108138  0.11111106 0.1108138  0.11111114 0.1114084\n",
            " 0.11111106 0.1114084  0.11170578]\n",
            "t=23 [0.11066519 0.11088814 0.11111108 0.11088814 0.1111111  0.11133409\n",
            " 0.11111108 0.11133409 0.11155709]\n",
            "t=24 [0.11077666 0.11094388 0.1111111  0.11094388 0.11111112 0.11127834\n",
            " 0.1111111  0.11127834 0.11144559]\n",
            "t=25 [0.11086027 0.11098569 0.1111111  0.11098569 0.11111111 0.11123654\n",
            " 0.1111111  0.11123654 0.11136197]\n",
            "t=26 [0.11092298 0.11101704 0.11111111 0.11101704 0.11111111 0.11120518\n",
            " 0.11111111 0.11120518 0.11129925]\n",
            "t=27 [0.11097001 0.11104056 0.11111111 0.11104056 0.11111111 0.11118166\n",
            " 0.11111111 0.11118166 0.11125221]\n",
            "t=28 [0.11100529 0.1110582  0.11111111 0.1110582  0.11111111 0.11116402\n",
            " 0.11111111 0.11116402 0.11121694]\n",
            "t=29 [0.11103174 0.11107143 0.11111111 0.11107143 0.11111111 0.1111508\n",
            " 0.11111111 0.1111508  0.11119048]\n",
            "t=30 [0.11105158 0.11108135 0.11111111 0.11108135 0.11111111 0.11114087\n",
            " 0.11111111 0.11114087 0.11117064]\n",
            "t=31 [0.11106647 0.11108879 0.11111111 0.11108879 0.11111111 0.11113343\n",
            " 0.11111111 0.11113343 0.11115576]\n",
            "t=32 [0.11107763 0.11109437 0.11111111 0.11109437 0.11111111 0.11112785\n",
            " 0.11111111 0.11112785 0.1111446 ]\n",
            "t=33 [0.111086   0.11109855 0.11111111 0.11109855 0.11111111 0.11112367\n",
            " 0.11111111 0.11112367 0.11113622]\n",
            "t=34 [0.11109228 0.11110169 0.11111111 0.11110169 0.11111111 0.11112053\n",
            " 0.11111111 0.11112053 0.11112995]\n",
            "t=35 [0.11109698 0.11110405 0.11111111 0.11110405 0.11111111 0.11111817\n",
            " 0.11111111 0.11111817 0.11112524]\n",
            "t=36 [0.11110052 0.11110581 0.11111111 0.11110581 0.11111111 0.11111641\n",
            " 0.11111111 0.11111641 0.11112171]\n",
            "t=37 [0.11110317 0.11110714 0.11111111 0.11110714 0.11111111 0.11111508\n",
            " 0.11111111 0.11111508 0.11111906]\n",
            "t=38 [0.11110515 0.11110813 0.11111111 0.11110813 0.11111111 0.11111409\n",
            " 0.11111111 0.11111409 0.11111707]\n",
            "t=39 [0.11110664 0.11110888 0.11111111 0.11110888 0.11111111 0.11111335\n",
            " 0.11111111 0.11111335 0.11111558]\n",
            "t=40 [0.11110776 0.11110944 0.11111111 0.11110944 0.11111111 0.11111279\n",
            " 0.11111111 0.11111279 0.11111446]\n",
            "t=41 [0.1111086  0.11110985 0.11111111 0.11110985 0.11111111 0.11111237\n",
            " 0.11111111 0.11111237 0.11111363]\n",
            "t=42 [0.11110923 0.11111017 0.11111111 0.11111017 0.11111111 0.11111205\n",
            " 0.11111111 0.11111205 0.111113  ]\n",
            "t=43 [0.1111097  0.1111104  0.11111111 0.1111104  0.11111111 0.11111182\n",
            " 0.11111111 0.11111182 0.11111253]\n",
            "t=44 [0.11111005 0.11111058 0.11111111 0.11111058 0.11111111 0.11111164\n",
            " 0.11111111 0.11111164 0.11111217]\n",
            "t=45 [0.11111032 0.11111071 0.11111111 0.11111071 0.11111111 0.11111151\n",
            " 0.11111111 0.11111151 0.11111191]\n",
            "t=46 [0.11111051 0.11111081 0.11111111 0.11111081 0.11111111 0.11111141\n",
            " 0.11111111 0.11111141 0.11111171]\n",
            "t=47 [0.11111066 0.11111089 0.11111111 0.11111089 0.11111111 0.11111133\n",
            " 0.11111111 0.11111133 0.11111156]\n",
            "t=48 [0.11111078 0.11111094 0.11111111 0.11111094 0.11111111 0.11111128\n",
            " 0.11111111 0.11111128 0.11111145]\n",
            "t=49 [0.11111086 0.11111099 0.11111111 0.11111099 0.11111111 0.11111124\n",
            " 0.11111111 0.11111124 0.11111136]\n",
            "t=50 [0.11111092 0.11111102 0.11111111 0.11111102 0.11111111 0.11111121\n",
            " 0.11111111 0.11111121 0.1111113 ]\n",
            "t=51 [0.11111097 0.11111104 0.11111111 0.11111104 0.11111111 0.11111118\n",
            " 0.11111111 0.11111118 0.11111125]\n",
            "t=52 [0.111111   0.11111106 0.11111111 0.11111106 0.11111111 0.11111116\n",
            " 0.11111111 0.11111116 0.11111122]\n",
            "t=53 [0.11111103 0.11111107 0.11111111 0.11111107 0.11111111 0.11111115\n",
            " 0.11111111 0.11111115 0.11111119]\n",
            "t=54 [0.11111105 0.11111108 0.11111111 0.11111108 0.11111111 0.11111114\n",
            " 0.11111111 0.11111114 0.11111117]\n",
            "t=55 [0.11111107 0.11111109 0.11111111 0.11111109 0.11111111 0.11111113\n",
            " 0.11111111 0.11111113 0.11111116]\n",
            "t=56 [0.11111108 0.11111109 0.11111111 0.11111109 0.11111111 0.11111113\n",
            " 0.11111111 0.11111113 0.11111114]\n",
            "t=57 [0.11111109 0.1111111  0.11111111 0.1111111  0.11111111 0.11111112\n",
            " 0.11111111 0.11111112 0.11111114]\n",
            "t=58 [0.11111109 0.1111111  0.11111111 0.1111111  0.11111111 0.11111112\n",
            " 0.11111111 0.11111112 0.11111113]\n",
            "t=59 [0.1111111  0.1111111  0.11111111 0.1111111  0.11111111 0.11111112\n",
            " 0.11111111 0.11111112 0.11111113]\n",
            "t=60 [0.1111111  0.11111111 0.11111111 0.11111111 0.11111111 0.11111112\n",
            " 0.11111111 0.11111112 0.11111112]\n",
            "t=61 [0.1111111  0.11111111 0.11111111 0.11111111 0.11111111 0.11111112\n",
            " 0.11111111 0.11111112 0.11111112]\n",
            "t=62 [0.11111111 0.11111111 0.11111111 0.11111111 0.11111111 0.11111111\n",
            " 0.11111111 0.11111111 0.11111112]\n",
            "t=63 [0.11111111 0.11111111 0.11111111 0.11111111 0.11111111 0.11111111\n",
            " 0.11111111 0.11111111 0.11111112]\n",
            "t=64 [0.11111111 0.11111111 0.11111111 0.11111111 0.11111111 0.11111111\n",
            " 0.11111111 0.11111111 0.11111111]\n"
          ]
        }
      ]
    },
    {
      "cell_type": "markdown",
      "source": [
        "vemos que la probabilidad converge rápidamente a un valor estacionario.\n",
        "\n",
        "El vector que aparece es un autovector de la matriz de transferencia y corresponde a un autovalor $1$. Es justamente la distribución de probabilidad que buscábamos, uniforme en la grilla.\n",
        "\n",
        "Calculemos los autovectores y autovalores."
      ],
      "metadata": {
        "id": "mQgchldRyU48"
      }
    },
    {
      "cell_type": "code",
      "source": [
        "# Los autovectores corresponden a las columnas\n",
        "eigenvalues, eigenvectors = np.linalg.eig(matrix)\n",
        "\n",
        "# Indices para ordenar autovalores y autovectores\n",
        "idx = eigenvalues.argsort()\n",
        "\n",
        "# Ordenamos usando idx\n",
        "eigenvalues = eigenvalues[idx]\n",
        "eigenvectors = eigenvectors[:, idx]\n",
        "\n",
        "np.set_printoptions(suppress=True)\n",
        "\n",
        "print(\"Autovalores:\")\n",
        "print(eigenvalues)\n",
        "np.set_printoptions(suppress=True)\n",
        "\n",
        "print(\"\\nAutovectores:\")\n",
        "print(eigenvectors)\n",
        "\n",
        "# Tomamos el último autovector que corresponde al autovalor 1\n",
        "p1 = eigenvectors[:, -1]\n",
        "p1 = p1 /p1.sum()\n",
        "\n",
        "print(p1)"
      ],
      "metadata": {
        "colab": {
          "base_uri": "https://localhost:8080/"
        },
        "id": "QOm8dALYESj0",
        "outputId": "d684a8a3-9042-4d48-8f61-be9ec1a25f50"
      },
      "execution_count": null,
      "outputs": [
        {
          "output_type": "stream",
          "name": "stdout",
          "text": [
            "Autovalores:\n",
            "[-0.5  -0.    0.    0.25  0.25  0.5   0.75  0.75  1.  ]\n",
            "\n",
            "Autovectores:\n",
            "[[-0.16666667  0.40824829  0.0184679  -0.33333333 -0.15526378  0.5\n",
            "   0.14348254  0.57735027  0.33333333]\n",
            " [ 0.33333333 -0.40824829  0.38936246  0.16666667 -0.36481541  0.\n",
            "  -0.20787726  0.28867513  0.33333333]\n",
            " [-0.16666667 -0.         -0.40783036 -0.33333333 -0.15526378 -0.5\n",
            "  -0.55923706  0.          0.33333333]\n",
            " [ 0.33333333 -0.40824829 -0.42629826  0.16666667  0.52007918 -0.\n",
            "   0.3513598   0.28867513  0.33333333]\n",
            " [-0.66666667  0.          0.          0.66666667  0.31052755 -0.\n",
            "  -0.          0.          0.33333333]\n",
            " [ 0.33333333  0.40824829  0.42629826  0.16666667  0.52007918 -0.\n",
            "  -0.3513598  -0.28867513  0.33333333]\n",
            " [-0.16666667 -0.          0.40783036 -0.33333333 -0.15526378 -0.5\n",
            "   0.55923706  0.          0.33333333]\n",
            " [ 0.33333333  0.40824829 -0.38936246  0.16666667 -0.36481541 -0.\n",
            "   0.20787726 -0.28867513  0.33333333]\n",
            " [-0.16666667 -0.40824829 -0.0184679  -0.33333333 -0.15526378  0.5\n",
            "  -0.14348254 -0.57735027  0.33333333]]\n",
            "[0.11111111 0.11111111 0.11111111 0.11111111 0.11111111 0.11111111\n",
            " 0.11111111 0.11111111 0.11111111]\n"
          ]
        }
      ]
    },
    {
      "cell_type": "markdown",
      "source": [
        "El autovalor máximo de la matriz de transferencia corresponde a un autovector con componentes positivas. Vemos que el resto de los autovectores tiene componentes negativas, por lo que no pueden ser interpretados como probabilidades. Esto es una manifestación del teorema de [Perron-Frobenius](https://en.wikipedia.org/wiki/Perron%E2%80%93Frobenius_theorem). Esto es, para una matriz con componentes positivas, el autovalor máximo es real y corresponde a un autovector con componentes positivas."
      ],
      "metadata": {
        "id": "th9FsMuobVj6"
      }
    },
    {
      "cell_type": "markdown",
      "source": [
        "Veamos cuán rápido converge al equilibrio calculando la diferencia de las probabilidades a tiempo $t$ con el vector de probabilidades de equilibrio."
      ],
      "metadata": {
        "id": "5ETeU4pV1dHQ"
      }
    },
    {
      "cell_type": "code",
      "source": [
        "import matplotlib.pyplot as plt\n",
        "\n",
        "T=100\n",
        "diferencia = np.zeros(T)\n",
        "\n",
        "decae = np.zeros(T)\n",
        "\n",
        "p = np.zeros(9)\n",
        "p[8] = 1\n",
        "\n",
        "## El autovalor de módulo más grande menor a uno.\n",
        "autov =0.75\n",
        "\n",
        "init = 0.5\n",
        "for t in range(T):\n",
        "    diferencia[t] = np.linalg.norm(p-p1)\n",
        "    decae[t] = init\n",
        "    init = init *autov\n",
        "    p = np.dot(matrix,p)\n",
        "\n",
        "fig, ax = plt.subplots()\n",
        "ax.plot(range(T), diferencia, label=\"distancia al equilibrio\")\n",
        "ax.plot(range(T), decae, '-', label=\"$0.75^t$\")\n",
        "\n",
        "ax.set(xlabel='t', ylabel='|diferencia|',\n",
        "       title='Convergencia')\n",
        "ax.grid()\n",
        "\n",
        "plt.yscale(\"log\")\n",
        "plt.legend()\n",
        "plt.show()"
      ],
      "metadata": {
        "colab": {
          "base_uri": "https://localhost:8080/",
          "height": 472
        },
        "id": "uCw7O1ou0vdI",
        "outputId": "1d983070-44dc-4962-c723-72a0bcc04de0"
      },
      "execution_count": null,
      "outputs": [
        {
          "output_type": "display_data",
          "data": {
            "text/plain": [
              "<Figure size 640x480 with 1 Axes>"
            ],
            "image/png": "[encoded data removed]"
          },
          "metadata": {}
        }
      ]
    },
    {
      "cell_type": "markdown",
      "source": [
        "Vemos que la probabilidad se acerca exponencialmente al equilibrio y que el exponente está dado por el segundo autovalor más grande en valor absoluto ($0.75$).\n",
        "\n",
        "Podemos descomponer el vector inicial como una suma de autovectores.\n",
        "$$\n",
        "\\mathbf{\\pi}^{0}=\\sum_i a_i \\mathbf{p}_i\n",
        "$$\n",
        "Al aplicar la matriz, los autovectores van a ser multiplicados por su autovalor. Luego de t iteraciones vamos a tener:\n",
        "$$\n",
        "\\mathbf{\\pi}^{t}=\\sum_i \\lambda_i^ta_i \\mathbf{p}_i\n",
        "$$\n",
        "Donde los $\\lambda_i$ son los autovalores asociados a los autovectores $\\mathbf{p}_i$ de la matriz de transferencia. Si $|\\lambda_i|< 0$, la componente asociada al autovector correspondiente va a decaer exponencialmente como $\\lambda_i^t$. Por lo tanto, la convergencia a las probabilidades de equilibro está gobernada por los autovalores más cercanos a 1. En este caso es el autovalor $0.75$. Esto es su peso decae como $0.75^t$ que es lo que se ve en la figura para $t$ suficientemente grande.\n",
        "\n",
        "\n"
      ],
      "metadata": {
        "id": "CLvC8Nss4M1Q"
      }
    },
    {
      "cell_type": "markdown",
      "source": [
        "## Condiciones para la convergencia\n",
        "\n",
        "Se puede demostrar que va a existir siempre al menos un autovalor $1$, pero para que esté bien definido el estado de equilibrio, tiene que ser único.\n",
        "\n",
        "Si hacemos una copia de la grilla de $3\\times 3$ pero la probabilidad de saltar de una copia de la grilla a la otra es cero. La matriz de transferencia va a estar compuesta por dos bloques iguales:\n",
        "$$\n",
        "\\begin{pmatrix}\n",
        "T&O\\\\\n",
        "O&T\n",
        "\\end{pmatrix}\n",
        "$$\n",
        "donde $T$ es la matriz de transferencia para una sola grilla y $O$ es la matriz cero.\n",
        "Escrita completa queda:\n",
        "\n",
        "\\begin{pmatrix}\n",
        "\\frac{1}{2} &\\frac{1}{4}&0&\\frac{1}{4}&0&0&0&0&0&0&0&0&0&0&0&0&0&0\\\\\n",
        "\\frac{1}{4} &\\frac{1}{4}&\\frac{1}{4}&0&\\frac{1}{4}&0&0&0&0&0&0&0&0&0&0&0&0&0\\\\\n",
        "0 & \\frac{1}{4}&\\frac{1}{2}& 0&0&\\frac{1}{4}&0&0&0&0&0&0&0&0&0&0&0&0\\\\\n",
        "\\frac{1}{4}& 0&0&\\frac{1}{4} &\\frac{1}{4}&0&\\frac{1}{4}&0&0&0&0&0&0&0&0&0&0&0 \\\\\n",
        "0& \\frac{1}{4}&0&\\frac{1}{4}&0&\\frac{1}{4}&0&\\frac{1}{4}&0&0&0&0&0&0&0&0&0&0\\\\\n",
        "0&0&\\frac{1}{4}&0&\\frac{1}{4}&\\frac{1}{4}&0&0&\\frac{1}{4} &0&0&0&0&0&0&0&0&0\\\\\n",
        "0&0&0&\\frac{1}{4} &0&0&\\frac{1}{2}&\\frac{1}{4} &0&0&0&0&0&0&0&0&0&0\\\\\n",
        "0&0&0&0&\\frac{1}{4} &0&\\frac{1}{4}&\\frac{1}{4}&\\frac{1}{4} &0&0&0&0&0&0&0&0&0\\\\\n",
        "0&0&0&0&0&\\frac{1}{4} &0&\\frac{1}{4}&\\frac{1}{2} &0&0&0&0&0&0&0&0&0\\\\\n",
        "0&0&0&0&0&0&0&0&0&\\frac{1}{2} &\\frac{1}{4}&0&\\frac{1}{4}&0&0&0&0&0\\\\\n",
        "0&0&0&0&0&0&0&0&0&\\frac{1}{4} &\\frac{1}{4}&\\frac{1}{4}&0&\\frac{1}{4}&0&0&0&0\\\\\n",
        "0&0&0&0&0&0&0&0&0&0 & \\frac{1}{4}&\\frac{1}{2}& 0&0&\\frac{1}{4}&0&0&0\\\\\n",
        "0&0&0&0&0&0&0&0&0&\\frac{1}{4}& 0&0&\\frac{1}{4} &\\frac{1}{4}&0&\\frac{1}{4}&0&0 \\\\\n",
        "0&0&0&0&0&0&0&0&0&0& \\frac{1}{4}&0&\\frac{1}{4}&0&\\frac{1}{4}&0&\\frac{1}{4}&0\\\\\n",
        "0&0&0&0&0&0&0&0&0&0&0&\\frac{1}{4}&0&\\frac{1}{4}&\\frac{1}{4}&0&0&\\frac{1}{4} \\\\\n",
        "0&0&0&0&0&0&0&0&0&0&0&0&\\frac{1}{4} &0&0&\\frac{1}{2}&\\frac{1}{4} &0\\\\\n",
        "0&0&0&0&0&0&0&0&0&0&0&0&0&\\frac{1}{4} &0&\\frac{1}{4}&\\frac{1}{4}&\\frac{1}{4} \\\\\n",
        "0&0&0&0&0&0&0&0&0&0&0&0&0&0&\\frac{1}{4} &0&\\frac{1}{4}&\\frac{1}{2} \\\\\n",
        "\\end{pmatrix}\n",
        "\n",
        "\n"
      ],
      "metadata": {
        "id": "N17eHnMXZxZi"
      }
    },
    {
      "cell_type": "markdown",
      "source": [],
      "metadata": {
        "id": "HNOwOaUlpYjn"
      }
    },
    {
      "cell_type": "markdown",
      "source": [
        "Esta matriz tiene dos autovalores $1$. Esta no es una situación deseable porque la distribución de probabilidad a la que llegamos va a depender de la grilla en la que comenzó el disco.\n",
        "\n",
        "Poniendo una pequeña probabilidad de saltar de una grilla a la otra, se va a recuperar un único autovalor $1$. De esa manera, la matriz de transferencia pasa de ser *reducible* a *irreducible*, que es una de las condiciones para llegar al equilibrio.\n",
        "\n",
        "Otro problema que puede ocurrir es que haya un comportamiento cíclico, por ejemplo si tenemos una grilla con dos casilleros y a cada paso de tiempo el disco solo puede saltar al casillero libre. Eso da lugar a un comportamiento periódico.\n",
        "* ¿Cómo es la matriz de transferencia en este caso?\n",
        "\n",
        "La matriz va a tener dos autovalores de módulo: $\\{1, -1\\}$. Ese problema se puede arreglar agregando una probabilidad finita de que el disco se quede en el lugar donde está y no salte.\n",
        "\n",
        "Resumiendo, para llegar a la distribución de probabilidad de equilibrio necesitamos:\n",
        "* Balance global (en general se pide el más exigente balance detallado)\n",
        "* Irreducibilidad (la matriz de transferencia no se tiene que poder escribir como bloques desacoplados)\n",
        "* Aperiodicidad. No queremos un comportamiento cíclico."
      ],
      "metadata": {
        "id": "OUgJIcyNpR34"
      }
    }
  ]
}