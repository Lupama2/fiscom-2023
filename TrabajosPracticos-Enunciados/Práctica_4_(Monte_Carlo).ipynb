{
  "cells": [
    {
      "cell_type": "markdown",
      "metadata": {
        "id": "n_Hp0OrDvj_E"
      },
      "source": [
        "\n",
        "# Trabajo práctico 6\n",
        "## Monte Carlo y Modelo de Ising\n",
        "\n",
        "**Entregar los problemas que se indican**\n"
      ]
    },
    {
      "cell_type": "markdown",
      "metadata": {
        "id": "KCcGYNr-tclE"
      },
      "source": [
        "## Ejercicio 1"
      ]
    },
    {
      "cell_type": "markdown",
      "metadata": {
        "id": "Q2Cv9tyTs_rW"
      },
      "source": [
        "\n",
        "#### **Método del rechazo**\n",
        "\n",
        "1. Implemente el método del rechazo para generar números aleatorios con distribución gaussiana:\n",
        "$$\n",
        "P(y) = \\frac{e^{(y- \\overline y)^2/2\\sigma^2}}{\\sqrt{2 \\pi} \\sigma},\n",
        "$$\n",
        "recortada entre $\\overline{y} \\pm 4 \\sigma$.\n",
        "\n",
        "2. Haga un histograma y compárelo con la ditribución buscada.\n"
      ]
    },
    {
      "cell_type": "markdown",
      "metadata": {
        "id": "SPOWKY2zt8tB"
      },
      "source": [
        "## Ejercicio 2"
      ]
    },
    {
      "cell_type": "markdown",
      "metadata": {
        "id": "St5yRIYvt6SV"
      },
      "source": [
        "#### **Integrales por Monte Carlo**\n",
        "\n",
        "1. Calcule el valor de $\\pi$ a partir del volumen de una esfera.\n",
        "\n",
        "* Use una esfera de radio $r = 1$ inscripta inscripta en un cubo de lado $2r$.\n",
        "\n",
        "* Calcule el volumen encerrado usando el método de Monte Carlo, y use el valor obtenido para encontrar un valor aproximado para $\\pi$.\n",
        "\n",
        "* Estudie la dependencia del error en la estimación (comparando con el valor exacto de $\\pi$) con la cantidad de puntos usados.\n",
        "\n",
        "* ¿Qué ocurre si usamos este método de estimación de $\\pi$ para un número grande de dimensiones $d\\gg 1$?\n"
      ]
    },
    {
      "cell_type": "markdown",
      "metadata": {
        "id": "zH-2t4q21HG9"
      },
      "source": [
        "## Ejercicio 3"
      ]
    },
    {
      "cell_type": "markdown",
      "metadata": {
        "id": "8_XqsM3Z1Jwb"
      },
      "source": [
        "#### **Random walk**\n",
        "\n",
        "Implemente un caminante al azar simétrico, en una red bidimensional.\n",
        "\n",
        "1. Grafique $100$ trayectorias, hasta un tiempo $t_f = 1\\;000$.\n",
        "\n",
        "2. Usando un ensemble de al menos $100\\;000$ caminantes, calcule la posición media y su desviación estándar en función del tiempo, hasta $t_{f} =10\\;000$.\n",
        "\n",
        "3. Calcule la distribución de la posición haciendo histogramas a distintos tiempos (eligiendo algunos tiempos característicos para ello), y compare el resultado con la distribución correspondiente a un proceso difusivo."
      ]
    },
    {
      "cell_type": "markdown",
      "metadata": {
        "id": "j0tycCs9xDBa"
      },
      "source": [
        "## Ejercicio 4  [Modelo de Ising](https://es.wikipedia.org/wiki/Modelo_de_Ising) (entregar)"
      ]
    },
    {
      "cell_type": "markdown",
      "metadata": {
        "id": "QT6TKudqxAEg"
      },
      "source": [
        "Implemente el modelo de Ising en 2D usando el algoritmo de Metropolis para\n",
        "la dinámica del *spin-flip*. Un tamaño razonable para ver comportamientos\n",
        "típicos es $N \\times N$ = $32 \\times 32$. No exagere con sistemas gigantes. Para hacer\n",
        "pruebas, empiece con 5 x 5. Considere J = 1 en el hamiltoniano, sin campo\n",
        "externo, y $k_B$ = 1.\n",
        "\n",
        "* Calcule la evolución de la energía total por espín, y de la magnetización,\n",
        "para una temperatura fría, una caliente y una intermedia (por ejemplo 1.5,\n",
        "5 y 2.35 respectivamente, pero puede usar otras si le parecen mejor).\n",
        "\n",
        "* Calcule un diagrama de fases de la magnetización vs. la temperatura, haciendo para cada valor de la temperatura unas 100 o 1000 realizaciones y\n",
        "calculando el valor medio y la desviación estándar en el régimen estacionario. Indicativamente, unos $10N$ son suficientes para termalizar, y puede\n",
        "medir en los $10N$ siguientes. Pruebe para su implementación observando la\n",
        "dinámica de la magnetización que calculó antes. Use valores de $T$ entre $1.5$\n",
        "y $3.0$, y recuerde que cerca de la transición ferromagnética la dinámica se\n",
        "hace lenta.\n",
        "\n",
        "* Calcule, a partir de sus resultados, la temperatura de Curie (analíticamente,\n",
        "$T_C ≈2.269185$).\n",
        "\n",
        "* Calcule la capacidad calorífica (por espín) usando las fluctuaciones de la\n",
        "energía total:\n",
        "\n",
        "$$\n",
        "C = \\frac{1}{N^2} \\frac{\\sigma_E^2}{kT^2}.\n",
        "$$\n",
        "\n",
        "Puede usar un sistema chico ($5 \\times 5$), dejando pasar un transitorio de unas\n",
        "1000 iteraciones y midiendo la energía durante algunas miles de iteraciones\n",
        "posteriores. Calcule la temperatura de Curie a partir del resultado. Para\n",
        "sistemas más grandes le dará un pico más estrecho.\n",
        "Grafique la configuración del sistema al tiempo final, para las temperaturas\n",
        "fría, caliente e intermedia que usó antes, observando la diferencia en el orden\n",
        "de los espines."
      ]
    }
  ],
  "metadata": {
    "colab": {
      "provenance": []
    },
    "kernelspec": {
      "display_name": "Python 3",
      "name": "python3"
    },
    "language_info": {
      "name": "python"
    }
  },
  "nbformat": 4,
  "nbformat_minor": 0
}
