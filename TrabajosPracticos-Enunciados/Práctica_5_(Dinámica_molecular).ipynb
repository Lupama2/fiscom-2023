{
  "nbformat": 4,
  "nbformat_minor": 0,
  "metadata": {
    "colab": {
      "provenance": []
    },
    "kernelspec": {
      "name": "python3",
      "display_name": "Python 3"
    },
    "language_info": {
      "name": "python"
    }
  },
  "cells": [
    {
      "cell_type": "markdown",
      "source": [
        "\n",
        "# Trabajo práctico 5\n",
        "## Sistemas conservativos y dinámica molecular\n",
        "\n",
        "**Entregar los problemas que se indican**\n"
      ],
      "metadata": {
        "id": "n_Hp0OrDvj_E"
      }
    },
    {
      "cell_type": "markdown",
      "source": [
        "## Ejercicio 1"
      ],
      "metadata": {
        "id": "j0tycCs9xDBa"
      }
    },
    {
      "cell_type": "markdown",
      "source": [
        "Integre las ecuaciones de un oscilador armónico unidimensional usando el\n",
        "método de Verlet,\n",
        "\n",
        "$$\n",
        "\\frac{dx}{dt}=p,~~~~\\frac{dp}{dt}=-x.\n",
        "$$\n",
        "\n",
        "Elija la condición inicial $x(0) = 1$, $p(0) = 1$ y resuelva hasta un tiempo\n",
        "fijo $t = 42$, empleando distintos pasos de tiempo. Grafique la trayectoria\n",
        "en el espacio de fases, y compárela con la trayectoria analítica y con la que\n",
        "obtuvo con el método de Euler en el Trabajo Práctico 1. Calcule la energía\n",
        "mecánica de la solución numérica en función del tiempo, y compárela con la\n",
        "verdadera y con la de Euler."
      ],
      "metadata": {
        "id": "QT6TKudqxAEg"
      }
    },
    {
      "cell_type": "markdown",
      "source": [
        "##Ejercicio 2"
      ],
      "metadata": {
        "id": "r7dh_4I-xcgZ"
      }
    },
    {
      "cell_type": "markdown",
      "source": [
        "Considere un oscilador no lineal forzado, consistente en una partícula en un\n",
        "potencial cuártico de doble pozo y bajo la acción de una fuerza alterna:\n",
        "\n",
        "$$\n",
        "H(x,p) = \\frac{1}{2} p^2 - \\frac{1}{4}x^2 + \\frac{1}{8}x^4 - x F\\cos\\omega t.\n",
        "$$\n",
        "\n",
        "Integre numéricamente las ecuaciones de movimiento usando el algoritmo de\n",
        "Verlet (usando un paso de tiempo h ≈ 0.01). Elija adecuadamente el tiempo\n",
        "final en cada resolución, explicando por qué lo hace.\n",
        "\n",
        "Considere primero que $F = 0$. Grafique $x(t)$ para las siguientes condiciones\n",
        "iniciales:\n",
        "\n",
        "\n",
        "i)  $x(0) = 1.1$, $p(0) = 0$,\n",
        "\n",
        "ii) $x(0) = 1.6$, $p(0) = 0$.\n",
        "\n",
        "Grafique también la trayectoria en el espacio de fases $(x, p)$, para condiciones iniciales de distinta energía (por ejemplo con $p(0) = 0$ y variando $-1.8 < x(0) < 1.8$).\n",
        "\n",
        "Considere luego $F = 0.015$ y $\\omega = 0.982$ para dos casos:\n",
        "\n",
        "i) $x(0) = 1.1$, $p(0) = 0$,\n",
        "\n",
        "ii) $x(0) = 0.1$, $p(0) = 0$.\n",
        "\n",
        "En cada uno de estos casos, además, considere una condición inicial cercana, con $x'(0)=x(0)+\\delta x$ y $p'(0)=p(0)+\\delta p$ (indicativamente, considere $\\delta x=10^{-5}$, $\\delta p=0$).\n",
        "\n",
        "Para ambos casos, grafique $x(t)$ y la distancia entre trayectorias $d(t) = [(x(t)-x'(t)^2)+(p(t)-p'(t)^2)]^{1/2}$. Comente el resultado.\n",
        "\n"
      ],
      "metadata": {
        "id": "dTPvE2dTwBlk"
      }
    },
    {
      "cell_type": "markdown",
      "source": [
        "##Ejercicio 3 (entregar)"
      ],
      "metadata": {
        "id": "X1LFPKtt0Hfi"
      }
    },
    {
      "cell_type": "markdown",
      "source": [
        "Considere las ecuaciones de Newton para un sistema de $N$ átomos que interactúan mediante un potencial de Lennard-Jones dentro de una caja en dos dimensiones de tamaño $L\\times L$:\n",
        "\n",
        "\\begin{eqnarray}\n",
        "\t\t  \\frac{d\\vec{r}_i}{dt}&=&\\vec{p}_i,\t\t\\notag\\\\\n",
        "\t\t  \\frac{d\\vec{p}_i}{dt}&=&\\sum_{j\\neq i}\\frac{\\vec{r}_{ij}}{r_{ij}}f(r_{ij}), \\notag\n",
        "\\end{eqnarray}\n",
        "\n",
        "donde $\\vec{r}_i = (x_i, y_i)$ y $\\vec{p}_i = (p_{xi}, p_{yi})$ son la posición y momento lineal de la partícula $i$-ésima, $r_{ij} = |\\vec{r}_{ij} |$, con $\\vec{r}_{ij} = \\vec{r}_i - \\vec{r}_j$ , es la distancia entre las\n",
        "partículas i y j, y\n",
        "$$\n",
        "U(r) = 4(r^{-12} - r^{-6})\n",
        "$$ es el potencial de interacción y $f(r) = −\\frac{dU(r)}{dr}$ es la fuerza.\n",
        "\n",
        "\n",
        "Integre numéricamente mediante el algoritmo de Verlet con $h = 0.005$ durante\n",
        "$2000$ pasos usando los siguientes parámetros:\n",
        "\n",
        "* Sistema de $N = N_c^2$ átomos con $N_c = 30$.\n",
        "\n",
        "* Densidad $\\rho = N/L^2 = 0.3$.\n",
        "\n",
        "* Posiciones iniciales $r_i(0)$ en una red cuadrada: $(x_i, y_i) = (na,ma)$ con\n",
        "$a = L/(N_c + 1)$ y $n$, $m$ números enteros: $n = 1, . . . N_c$ y $m = 1, . . . N_c$.\n",
        "\n",
        "* Velocidades iniciales $v_i(0)$ aleatorias considerando dos valores elegidos\n",
        "al azar $\\vec{v} = (\\pm v_0, 0)$ con $v_0 = 1.1$.\n",
        "\n",
        "1. Grafique en función del tiempo las energías cinética $E_{kin}$, potencial $E_{pot}$ y total $E_{tot} = E_{kin} + E_{pot}$.\n",
        "\n",
        "2. Calcule, a distintos tiempos, histogramas que representen las distribuciones\n",
        "$P_x(v_x)$ y $P_y(v_y)$ de las componentes $v_x$, $v_y$ de las velocidades.\n",
        "Defina $P(v) = (P_x(v_x) + P_y(v_y))/2$. Grafíquelos en particular para el\n",
        "tiempo inicial y el tiempo final. Observe que para este último se cumple\n",
        "que $P_x(v_x) = Py(v_y) = P(v)$, y que corresponde a la distribución de\n",
        "Maxwell-Boltzmann, $\\propto \\;v \\;\\exp(−βv^2/2)$ en dos dimensiones."
      ],
      "metadata": {
        "id": "HHRpZA8N0Pva"
      }
    },
    {
      "cell_type": "markdown",
      "source": [
        "##Ejercicio 4"
      ],
      "metadata": {
        "id": "9VF7Ehpi-R8e"
      }
    },
    {
      "cell_type": "markdown",
      "source": [
        "En el problema anterior, estudie la paradoja de Loschmidt.\n",
        "\n",
        "1. Grafique en cada instante la entropía de Boltzmann:\n",
        "\n",
        "$$\n",
        "S=-\\int P(v)\\log(P(v))~ dv\n",
        "$$\n",
        "\n",
        "2. A un dado instante $t_R$, dé vuelta todas las velocidades: $(v_x, v_y) \\rightarrow (-v_x,-v_y)$.\n",
        "\n",
        "3. Calcule S(t) y observe que el sistema regresa a la condición inicial (con\n",
        "las velocidades invertidas).\n",
        "\n",
        "4. Agregue una perturbación pequeña a las velocidades y coordenadas a\n",
        "un tiempo $t_p ≤ t_R$ (cambiándolas al azar en un 0.001 %).\n",
        "\n",
        "5. Pruebe el efecto de distintos $t_p$: tiempo cortos y largos (antes y después\n",
        "del “equilibrio”).\n",
        "\n",
        "6. Analice cómo varía el tiempo necesario para equilibrar al variar la densidad\n",
        "$\\rho$."
      ],
      "metadata": {
        "id": "s8fdXGzU-Y_P"
      }
    }
  ]
}