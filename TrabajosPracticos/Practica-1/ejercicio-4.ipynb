{
 "cells": [
  {
   "cell_type": "markdown",
   "metadata": {},
   "source": [
    "## Ejercicio 4\n",
    "\n",
    "Modifique el programa del problema anterior para que use un paso adaptativo. Es decir, sea $y_1$ la solución usando paso $h$ e $y_2$ usando $h/2$. Considere su diferencia:\n",
    "$$\n",
    "\\Delta = |y_2 - y_1|,\n",
    "$$\n",
    "y una tolerancia $\\epsilon = 10^{-5}$. Programe la siguiente estrategia para ajustar el paso $h$:\n",
    "* Si $\\Delta < \\epsilon/2$: acepto $y_2$ y multiplico el paso por 1.5.\n",
    "* Si $\\epsilon/2 < \\Delta < \\epsilon$: acepto $y_2$ y mantengo el paso.\n",
    "* Si $\\epsilon < \\Delta$: rechazo $y_2$, divido el paso por 1.5 y vuelvo a calcular.  \n",
    "\n",
    "Para $a=1$, $b=3$, grafique las soluciones numéricas $x(t)$ e $y(t)$ y la trayectoria en el espacio de fases, señalando cómo se adapta el paso en los regímenes de variación rápida del oscilador.\n",
    "\n",
    "Contando la cantidad de pasos en un ciclo, estime la ventaja del algoritmo con respecto a un RK4 de paso fijo con la misma precisión (necesitará un $h\\approx 0.01$).\n",
    "\n",
    "Considere una tolerancia distinta ($\\epsilon=10^{-2}$, por ejemplo) y discuta las diferencias.\n",
    "\n",
    "\n",
    "Si tiene ganas, considere también otros valores del factor de multiplicación del paso (en muchos libros recomiendan el valor 2 en lugar de 1.5, por ejemplo). ¿Qué ocurre con la discretización del tiempo?\n"
   ]
  },
  {
   "cell_type": "code",
   "execution_count": 9,
   "metadata": {},
   "outputs": [],
   "source": [
    "#Importo librerías\n",
    "import numpy as np\n",
    "import matplotlib.pyplot as plt"
   ]
  },
  {
   "cell_type": "code",
   "execution_count": 21,
   "metadata": {},
   "outputs": [
    {
     "data": {
      "text/plain": [
       "0.0"
      ]
     },
     "execution_count": 21,
     "metadata": {},
     "output_type": "execute_result"
    }
   ],
   "source": [
    "np.linalg.norm(np.array([1,2])) - np.sqrt(1 + 4)"
   ]
  },
  {
   "cell_type": "code",
   "execution_count": 95,
   "metadata": {},
   "outputs": [],
   "source": [
    "tol = 1e-5\n",
    "\n",
    "def f(y_vec, a, b):\n",
    "    '''\n",
    "    y_vec = (x,y)\n",
    "    \n",
    "    '''\n",
    "    #Asigno variables\n",
    "    x = y_vec[0]\n",
    "    y = y_vec[1]\n",
    "\n",
    "    #Calculo derivadas\n",
    "    dxdt = a - (b+1)*x + x**2*y\n",
    "    dydt = b*x - x**2*y\n",
    "\n",
    "    return np.array([dxdt, dydt])\n",
    "\n",
    "def RK4(f, h, y_vec, *args):\n",
    "    '''\n",
    "    Calcula y_vec^{n+1} para dados y_vec^{n} = y_vec y paso de tiempo h usando f = dy_vec/dt\n",
    "\n",
    "    '''\n",
    "\n",
    "    #Calculo los ks\n",
    "    k1 = h*f(y_vec, *args)\n",
    "    k2 = h*f(y_vec + k1/2, *args)\n",
    "    k3 = h*f(y_vec + k2/2, *args)\n",
    "    k4 = h*f(y_vec + k3, *args)\n",
    "\n",
    "    return y_vec + k1/6 + (k2+k3)/3 + k4/6\n",
    "\n",
    "def RK4_adap(f, h, y_vec, *args):\n",
    "    #Resuelvo con paso h\n",
    "    y1 = RK4(f, h, y_vec, *args)\n",
    "    #Resuelvo con paso h/2\n",
    "    y2 = RK4(f, h/2, y_vec, *args)\n",
    "    #Calculo la diferencia\n",
    "    Delta = np.linalg.norm(y2-y1)\n",
    "\n",
    "    if Delta < tol/2:\n",
    "        # print(\"Agrando paso\")\n",
    "        return y2, h*1.5\n",
    "    elif tol/2 < Delta < tol:\n",
    "        # print(\"Mantengo paso\")\n",
    "        return y2, h\n",
    "    else:\n",
    "        # print(\"Achico paso\")\n",
    "        return RK4_adap(f, h/1.5, y_vec, *args)\n",
    "\n",
    "def solver(y0_vec, T, N, h, *args):\n",
    "    '''\n",
    "    \n",
    "    N: nro máximo de iteraciones\n",
    "    '''\n",
    "    y_vec = np.empty([N,2])\n",
    "    h_vec = np.empty(N) #Valores de h considerados\n",
    "\n",
    "    #Inicializo\n",
    "    y_vec[0] = y0_vec\n",
    "    h_vec[0] = h #Este paso no se está considerando\n",
    "    t = 0 #tiempo\n",
    "    i = 0 #índice\n",
    "\n",
    "    while t < T and i < N-1:\n",
    "        i += 1\n",
    "        y_vec[i], h_vec[i] = RK4_adap(f, h_vec[i-1], y_vec[i-1], *args)\n",
    "        t += h_vec[i]\n",
    "\n",
    "    if i == N-1:\n",
    "        print(\"Se llegó al nro máximo de pasos permitidos\")\n",
    "    if t >= T:\n",
    "        print(\"Se llegó al final de la evolución\")\n",
    "\n",
    "    return y_vec, h_vec[1:]\n"
   ]
  },
  {
   "cell_type": "code",
   "execution_count": 99,
   "metadata": {},
   "outputs": [],
   "source": [
    "#Condiciones iniciales\n",
    "x0 = 1\n",
    "y0 = 2\n",
    "T = 10 #Tiempo total\n",
    "h = 0.1 #Tamaño de los pasos\n",
    "N = 100 #Nro máximo de pasos\n",
    "\n",
    "a = 1\n",
    "b = 3\n",
    "\n"
   ]
  },
  {
   "cell_type": "code",
   "execution_count": 100,
   "metadata": {},
   "outputs": [
    {
     "name": "stdout",
     "output_type": "stream",
     "text": [
      "Se llegó al nro máximo de pasos permitidos\n"
     ]
    }
   ],
   "source": [
    "y0_vec = np.array([x0,y0])\n",
    "\n",
    "#Resuelvo\n",
    "y_vec, h_vec = solver(y0_vec, T, N, h, a, b)\n",
    "#Creo el array de tiempos\n",
    "t_vec = np.empty(len(h_vec) + 1)\n",
    "t_vec[0] = 0\n",
    "for i in range(1,len(t_vec)):\n",
    "    t_vec[i] = t_vec[i-1] + h_vec[i-1]\n"
   ]
  },
  {
   "cell_type": "code",
   "execution_count": 101,
   "metadata": {},
   "outputs": [
    {
     "data": {
      "text/plain": [
       "<matplotlib.legend.Legend at 0x18d670f7110>"
      ]
     },
     "execution_count": 101,
     "metadata": {},
     "output_type": "execute_result"
    },
    {
     "data": {
      "image/png": "[encoded data removed]",
      "text/plain": [
       "<Figure size 640x480 with 1 Axes>"
      ]
     },
     "metadata": {},
     "output_type": "display_data"
    }
   ],
   "source": [
    "# Grafico x, y vs t\n",
    "plt.plot(t_vec, y_vec[:,0], \"-o\", label = \"x\", color = \"tab:blue\")\n",
    "plt.plot(t_vec, y_vec[:,1], \"-o\",label = \"y\", color = \"tab:red\")\n",
    "plt.legend()"
   ]
  },
  {
   "cell_type": "code",
   "execution_count": null,
   "metadata": {},
   "outputs": [],
   "source": []
  },
  {
   "cell_type": "code",
   "execution_count": null,
   "metadata": {},
   "outputs": [],
   "source": []
  }
 ],
 "metadata": {
  "kernelspec": {
   "display_name": "FISCOM2023",
   "language": "python",
   "name": "python3"
  },
  "language_info": {
   "codemirror_mode": {
    "name": "ipython",
    "version": 3
   },
   "file_extension": ".py",
   "mimetype": "text/x-python",
   "name": "python",
   "nbconvert_exporter": "python",
   "pygments_lexer": "ipython3",
   "version": "3.11.4"
  },
  "orig_nbformat": 4
 },
 "nbformat": 4,
 "nbformat_minor": 2
}
