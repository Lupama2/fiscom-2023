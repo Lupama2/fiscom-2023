{
 "cells": [
  {
   "cell_type": "markdown",
   "metadata": {},
   "source": [
    "## Ejercicio 4\n",
    "\n",
    "Modifique el programa del problema anterior para que use un paso adaptativo. Es decir, sea $y_1$ la solución usando paso $h$ e $y_2$ usando $h/2$. Considere su diferencia:\n",
    "$$\n",
    "\\Delta = |y_2 - y_1|,\n",
    "$$\n",
    "y una tolerancia $\\epsilon = 10^{-5}$. Programe la siguiente estrategia para ajustar el paso $h$:\n",
    "* Si $\\Delta < \\epsilon/2$: acepto $y_2$ y multiplico el paso por 1.5.\n",
    "* Si $\\epsilon/2 < \\Delta < \\epsilon$: acepto $y_2$ y mantengo el paso.\n",
    "* Si $\\epsilon < \\Delta$: rechazo $y_2$, divido el paso por 1.5 y vuelvo a calcular.  \n",
    "\n",
    "Para $a=1$, $b=3$, grafique las soluciones numéricas $x(t)$ e $y(t)$ y la trayectoria en el espacio de fases, señalando cómo se adapta el paso en los regímenes de variación rápida del oscilador.\n",
    "\n",
    "Contando la cantidad de pasos en un ciclo, estime la ventaja del algoritmo con respecto a un RK4 de paso fijo con la misma precisión (necesitará un $h\\approx 0.01$).\n",
    "\n",
    "Considere una tolerancia distinta ($\\epsilon=10^{-2}$, por ejemplo) y discuta las diferencias.\n",
    "\n",
    "\n",
    "Si tiene ganas, considere también otros valores del factor de multiplicación del paso (en muchos libros recomiendan el valor 2 en lugar de 1.5, por ejemplo). ¿Qué ocurre con la discretización del tiempo?\n"
   ]
  },
  {
   "cell_type": "code",
   "execution_count": null,
   "metadata": {},
   "outputs": [],
   "source": []
  }
 ],
 "metadata": {
  "language_info": {
   "name": "python"
  },
  "orig_nbformat": 4
 },
 "nbformat": 4,
 "nbformat_minor": 2
}
