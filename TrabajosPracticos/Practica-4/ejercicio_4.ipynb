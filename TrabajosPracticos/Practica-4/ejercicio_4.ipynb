{
 "cells": [
  {
   "cell_type": "markdown",
   "metadata": {},
   "source": [
    "# Ejercicio 4: Modelo Ising 2D"
   ]
  },
  {
   "cell_type": "markdown",
   "metadata": {},
   "source": [
    "Con ChatGPT generé un código en python que evoluciona el sistema en el tiempo y usa 2 optimizaciones:\n",
    "1. Calcula las probabilidades a tiempo inicial\n",
    "2. Usa CPU en paralelo"
   ]
  },
  {
   "cell_type": "code",
   "execution_count": 3,
   "metadata": {},
   "outputs": [],
   "source": [
    "import numpy as np\n",
    "from multiprocessing import Pool\n",
    "import time\n",
    "\n",
    "L = 5#32\n",
    "J = 1.0\n",
    "kB = 1.0\n",
    "T = 2.5\n",
    "num_steps = 100#000\n",
    "\n",
    "probabilidades = {}\n",
    "for deltaE in [-8*J, -4*J, 0, 4*J, 8*J]:\n",
    "    if deltaE <= 0:\n",
    "        probabilidades[deltaE] = 1.0\n",
    "    else:\n",
    "        probabilidades[deltaE] = np.exp(-deltaE / (kB * T))\n",
    "\n",
    "def metropolis_step_optimizado(spins):\n",
    "    i, j = np.random.randint(0, L, 2)\n",
    "    deltaE = 2 * J * spins[i, j] * (spins[(i+1)%L, j] + spins[(i-1)%L, j] + \n",
    "                                    spins[i, (j+1)%L] + spins[i, (j-1)%L])\n",
    "    if np.random.rand() < probabilidades[deltaE]:\n",
    "        spins[i, j] *= -1\n",
    "    return spins\n",
    "\n",
    "def simulacion_ising(_=None):\n",
    "    spins = 2 * np.random.randint(2, size=(L, L)) - 1\n",
    "    for _ in range(num_steps):\n",
    "        spins = metropolis_step_optimizado(spins)\n",
    "    return np.sum(spins)\n",
    "\n",
    "def main():\n",
    "    # Sin paralelización\n",
    "    start_time = time.time()\n",
    "    resultados_sequenciales = [simulacion_ising() for _ in range(4)]  # Ejemplo: 4 simulaciones\n",
    "    end_time = time.time()\n",
    "    tiempo_sequencial = end_time - start_time\n",
    "\n",
    "    # Con paralelización\n",
    "    start_time = time.time()\n",
    "    with Pool() as p:\n",
    "        resultados_paralelos = p.map(simulacion_ising, [() for _ in range(4)])\n",
    "    end_time = time.time()\n",
    "    tiempo_paralelo = end_time - start_time\n",
    "\n",
    "    print(f\"Tiempo sin paralelización: {tiempo_sequencial:.2f} segundos\")\n",
    "    print(f\"Tiempo con paralelización: {tiempo_paralelo:.2f} segundos\")\n",
    "\n",
    "if __name__ == '__main__':\n",
    "    main()\n"
   ]
  },
  {
   "cell_type": "code",
   "execution_count": null,
   "metadata": {},
   "outputs": [],
   "source": []
  }
 ],
 "metadata": {
  "kernelspec": {
   "display_name": "FISCOM2023",
   "language": "python",
   "name": "python3"
  },
  "language_info": {
   "codemirror_mode": {
    "name": "ipython",
    "version": 3
   },
   "file_extension": ".py",
   "mimetype": "text/x-python",
   "name": "python",
   "nbconvert_exporter": "python",
   "pygments_lexer": "ipython3",
   "version": "3.11.4"
  },
  "orig_nbformat": 4
 },
 "nbformat": 4,
 "nbformat_minor": 2
}
