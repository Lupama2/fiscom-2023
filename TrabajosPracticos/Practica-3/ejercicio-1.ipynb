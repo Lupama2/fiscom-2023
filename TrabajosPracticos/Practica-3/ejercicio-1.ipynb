{
 "cells": [
  {
   "cell_type": "markdown",
   "metadata": {},
   "source": [
    "## Ejercicio 1\n",
    "\n",
    "\n",
    "Considere el mapeo logístico:\n",
    "$$\n",
    "x_{t+1} = r x_t (1-x_t).\n",
    "$$\n",
    "\n",
    "1. Grafique trayectorias $x_t$ para los siguientes valores del parámetro de control $r$:\n",
    "$$\n",
    "r = 1.5, 2.9, 3.3, 3.5, 3.55, 3.59, 3.83, 4.0.\n",
    "$$\n",
    "Para identificar los atractores, use varias condiciones iniciales para cada valor de $r$, descartando en cada caso el transitorio.\n",
    "* ¿Qué atractor corresponde a cada caso?\n",
    "* Para los atractores caóticos, construya un histograma para caracterizar la distribución de $x$ (observe que el histograma mejora al alargar el tiempo de observación).\n",
    "\n",
    "2. Construya un diagrama cobweb e identifique las primeras bifurcaciones de período (hasta $p$-$8$).\n",
    "* Muestre que el $p$-$2n$ es un punto fijo estable de la iteración $f^{2n}$, donde $f = f(x)$ es el miembro de la derecha del mapeo.\n",
    "* Encuentre analíticamente los valores de $r$ correspondientes a los tres primeros puntos de bifurcación (la desestabilización del $0$, la del punto fijo a $p$-$2$, y la de $p$-$2$ a $p$-$4$).\n",
    "\n",
    "3. Construya un diagrama de bifurcaciones, mostrando los atractores en función del parámetro $r$, con $r \\in (1.0,4.0)$.\n",
    "* Observe que, cerca de los puntos de bifurcación, los transitorios son más largos y es más difícil identificar el atractor. Haga ampliaciones del gráfico con:\n",
    "$$\n",
    "\\begin{align}\n",
    "r& \\in (3.0, 3.678),&&x \\in (0.2722, 0.7287);\n",
    "\\\\\n",
    "r& \\in (3.45122, 3.59383),&& x \\in (0.4105, 0.594);\n",
    "\\\\\n",
    "r& \\in (3.54416, 3.57490),&& x \\in (0.46, 0.5359).\n",
    "\\end{align}\n",
    "$$\n",
    "\n",
    "Tenga en cuenta que tendrá que realizar más iteraciones y refinar los valores de $r$ en cada ventana.\n",
    "\n",
    "4. Calcule y grafique el exponente de Lyapunov para $r \\in (2.5, 4.0)$"
   ]
  },
  {
   "cell_type": "code",
   "execution_count": 1,
   "metadata": {},
   "outputs": [],
   "source": [
    "#Import libraries\n",
    "import numpy as np\n",
    "import matplotlib.pyplot as plt\n",
    "\n",
    "\n",
    "#Para hacer gráficos interactivos\n",
    "import ipywidgets as widgets\n",
    "from IPython.display import display, clear_output"
   ]
  },
  {
   "cell_type": "code",
   "execution_count": null,
   "metadata": {},
   "outputs": [],
   "source": [
    "%matplotlib ipympl #Para hacer los gráficos interactivos"
   ]
  },
  {
   "cell_type": "markdown",
   "metadata": {},
   "source": [
    "### Inciso 1"
   ]
  },
  {
   "cell_type": "code",
   "execution_count": 2,
   "metadata": {},
   "outputs": [],
   "source": [
    "#Defino la función mapeo_logistico\n",
    "def mapeo_logistico(x, r):\n",
    "    return r * x * (1 - x)\n",
    "\n",
    "#Defino el rango de r\n",
    "r_vec = np.array([1.5, 2.9, 3.3, 3.5, 3.55, 3.59, 3.83, 4.0])\n",
    "\n",
    "N_x0 = 4 #nro de condiciones iniciales a graficar\n",
    "N_iter = 100 #Nro de iteraciones del mapeo logístico\n",
    "\n",
    "\n",
    "def trayectorias(r, N_x0, N_iter):\n",
    "    #Defino condición inicial\n",
    "    epsilon = 1e-2\n",
    "    x0 = np.linspace(0+epsilon,1-epsilon, N_x0)\n",
    "\n",
    "    #Calculo la trayectoria para cada CI y la voy graficando\n",
    "\n",
    "    x = np.empty([N_iter,N_x0])\n",
    "    x[0] = x0\n",
    "    for i in range(1,N_iter):\n",
    "        x[i] = mapeo_logistico(x[i-1], r)\n",
    "\n",
    "    return x\n"
   ]
  },
  {
   "cell_type": "code",
   "execution_count": 4,
   "metadata": {},
   "outputs": [
    {
     "ename": "ValueError",
     "evalue": "cannot find widget or abbreviation for argument: 'N_x0'",
     "output_type": "error",
     "traceback": [
      "\u001b[1;31m---------------------------------------------------------------------------\u001b[0m",
      "\u001b[1;31mValueError\u001b[0m                                Traceback (most recent call last)",
      "Cell \u001b[1;32mIn[4], line 17\u001b[0m\n\u001b[0;32m     14\u001b[0m     ax\u001b[39m.\u001b[39mset_xlabel(\u001b[39m\"\u001b[39m\u001b[39mn\u001b[39m\u001b[39m\"\u001b[39m)\n\u001b[0;32m     15\u001b[0m     plt\u001b[39m.\u001b[39mshow()\n\u001b[1;32m---> 17\u001b[0m widgets\u001b[39m.\u001b[39minteract(graph_trayectorias, r\u001b[39m=\u001b[39mwidgets\u001b[39m.\u001b[39mFloatSlider(\u001b[39mmin\u001b[39m\u001b[39m=\u001b[39m\u001b[39m0\u001b[39m, \u001b[39mmax\u001b[39m\u001b[39m=\u001b[39m\u001b[39mlen\u001b[39m(r_vec), step\u001b[39m=\u001b[39m\u001b[39m1\u001b[39m, value\u001b[39m=\u001b[39m\u001b[39m0\u001b[39m),  args \u001b[39m=\u001b[39m (N_x0, N_iter))\n",
      "File \u001b[1;32mc:\\ProgramData\\Anaconda3\\envs\\Maestria3\\Lib\\site-packages\\ipywidgets\\widgets\\interaction.py:510\u001b[0m, in \u001b[0;36m_InteractFactory.__call__\u001b[1;34m(self, _InteractFactory__interact_f, **kwargs)\u001b[0m\n\u001b[0;32m    502\u001b[0m     \u001b[39mreturn\u001b[39;00m \u001b[39mself\u001b[39m\n\u001b[0;32m    504\u001b[0m \u001b[39m# positional arg support in: https://gist.github.com/8851331\u001b[39;00m\n\u001b[0;32m    505\u001b[0m \u001b[39m# Handle the cases 1 and 2\u001b[39;00m\n\u001b[0;32m    506\u001b[0m \u001b[39m# 1. interact(f, **kwargs)\u001b[39;00m\n\u001b[0;32m    507\u001b[0m \u001b[39m# 2. @interact\u001b[39;00m\n\u001b[0;32m    508\u001b[0m \u001b[39m#    def f(*args, **kwargs):\u001b[39;00m\n\u001b[0;32m    509\u001b[0m \u001b[39m#        ...\u001b[39;00m\n\u001b[1;32m--> 510\u001b[0m w \u001b[39m=\u001b[39m \u001b[39mself\u001b[39m\u001b[39m.\u001b[39mwidget(f)\n\u001b[0;32m    511\u001b[0m \u001b[39mtry\u001b[39;00m:\n\u001b[0;32m    512\u001b[0m     f\u001b[39m.\u001b[39mwidget \u001b[39m=\u001b[39m w\n",
      "File \u001b[1;32mc:\\ProgramData\\Anaconda3\\envs\\Maestria3\\Lib\\site-packages\\ipywidgets\\widgets\\interaction.py:426\u001b[0m, in \u001b[0;36m_InteractFactory.widget\u001b[1;34m(self, f)\u001b[0m\n\u001b[0;32m    410\u001b[0m \u001b[39mdef\u001b[39;00m \u001b[39mwidget\u001b[39m(\u001b[39mself\u001b[39m, f):\n\u001b[0;32m    411\u001b[0m \u001b[39m    \u001b[39m\u001b[39m\"\"\"\u001b[39;00m\n\u001b[0;32m    412\u001b[0m \u001b[39m    Return an interactive function widget for the given function.\u001b[39;00m\n\u001b[0;32m    413\u001b[0m \n\u001b[1;32m   (...)\u001b[0m\n\u001b[0;32m    424\u001b[0m \u001b[39m        The function to which the interactive widgets are tied.\u001b[39;00m\n\u001b[0;32m    425\u001b[0m \u001b[39m    \"\"\"\u001b[39;00m\n\u001b[1;32m--> 426\u001b[0m     \u001b[39mreturn\u001b[39;00m \u001b[39mself\u001b[39m\u001b[39m.\u001b[39mcls(f, \u001b[39mself\u001b[39m\u001b[39m.\u001b[39mopts, \u001b[39m*\u001b[39m\u001b[39m*\u001b[39m\u001b[39mself\u001b[39m\u001b[39m.\u001b[39mkwargs)\n",
      "File \u001b[1;32mc:\\ProgramData\\Anaconda3\\envs\\Maestria3\\Lib\\site-packages\\ipywidgets\\widgets\\interaction.py:172\u001b[0m, in \u001b[0;36minteractive.__init__\u001b[1;34m(self, _interactive__interact_f, _interactive__options, **kwargs)\u001b[0m\n\u001b[0;32m    169\u001b[0m \u001b[39mself\u001b[39m\u001b[39m.\u001b[39mmanual_name \u001b[39m=\u001b[39m __options\u001b[39m.\u001b[39mget(\u001b[39m\"\u001b[39m\u001b[39mmanual_name\u001b[39m\u001b[39m\"\u001b[39m, \u001b[39m\"\u001b[39m\u001b[39mRun Interact\u001b[39m\u001b[39m\"\u001b[39m)\n\u001b[0;32m    170\u001b[0m \u001b[39mself\u001b[39m\u001b[39m.\u001b[39mauto_display \u001b[39m=\u001b[39m __options\u001b[39m.\u001b[39mget(\u001b[39m\"\u001b[39m\u001b[39mauto_display\u001b[39m\u001b[39m\"\u001b[39m, \u001b[39mFalse\u001b[39;00m)\n\u001b[1;32m--> 172\u001b[0m new_kwargs \u001b[39m=\u001b[39m \u001b[39mself\u001b[39m\u001b[39m.\u001b[39mfind_abbreviations(kwargs)\n\u001b[0;32m    173\u001b[0m \u001b[39m# Before we proceed, let's make sure that the user has passed a set of args+kwargs\u001b[39;00m\n\u001b[0;32m    174\u001b[0m \u001b[39m# that will lead to a valid call of the function. This protects against unspecified\u001b[39;00m\n\u001b[0;32m    175\u001b[0m \u001b[39m# and doubly-specified arguments.\u001b[39;00m\n\u001b[0;32m    176\u001b[0m \u001b[39mtry\u001b[39;00m:\n",
      "File \u001b[1;32mc:\\ProgramData\\Anaconda3\\envs\\Maestria3\\Lib\\site-packages\\ipywidgets\\widgets\\interaction.py:271\u001b[0m, in \u001b[0;36minteractive.find_abbreviations\u001b[1;34m(self, kwargs)\u001b[0m\n\u001b[0;32m    269\u001b[0m     \u001b[39mfor\u001b[39;00m name, value, default \u001b[39min\u001b[39;00m _yield_abbreviations_for_parameter(param, kwargs):\n\u001b[0;32m    270\u001b[0m         \u001b[39mif\u001b[39;00m value \u001b[39mis\u001b[39;00m empty:\n\u001b[1;32m--> 271\u001b[0m             \u001b[39mraise\u001b[39;00m \u001b[39mValueError\u001b[39;00m(\u001b[39m'\u001b[39m\u001b[39mcannot find widget or abbreviation for argument: \u001b[39m\u001b[39m{!r}\u001b[39;00m\u001b[39m'\u001b[39m\u001b[39m.\u001b[39mformat(name))\n\u001b[0;32m    272\u001b[0m         new_kwargs\u001b[39m.\u001b[39mappend((name, value, default))\n\u001b[0;32m    273\u001b[0m \u001b[39mreturn\u001b[39;00m new_kwargs\n",
      "\u001b[1;31mValueError\u001b[0m: cannot find widget or abbreviation for argument: 'N_x0'"
     ]
    }
   ],
   "source": [
    "#Grafico la trayectoria para cada r de forma interactiva\n",
    "\n",
    "def graph_trayectorias(r, N_x0, N_iter):\n",
    "\n",
    "    x = trayectorias(r, N_x0, N_iter)\n",
    "\n",
    "    fig, ax = plt.subplots(figsize=(7, 5))\n",
    "\n",
    "    for j in range(N_x0):\n",
    "        ax.plot(list(range(N_iter)), x[:,j], \"-o\")\n",
    "\n",
    "    ax.set_ylim([-.1,1.1])\n",
    "    ax.set_ylabel(\"$x_n$\")\n",
    "    ax.set_xlabel(\"n\")\n",
    "    plt.show()\n"
   ]
  },
  {
   "cell_type": "markdown",
   "metadata": {},
   "source": [
    "### Inciso 2"
   ]
  },
  {
   "cell_type": "markdown",
   "metadata": {},
   "source": [
    "### Inciso 3"
   ]
  },
  {
   "cell_type": "markdown",
   "metadata": {},
   "source": [
    "### Inciso 4"
   ]
  },
  {
   "cell_type": "code",
   "execution_count": null,
   "metadata": {},
   "outputs": [],
   "source": []
  }
 ],
 "metadata": {
  "kernelspec": {
   "display_name": "Maestria3",
   "language": "python",
   "name": "python3"
  },
  "language_info": {
   "codemirror_mode": {
    "name": "ipython",
    "version": 3
   },
   "file_extension": ".py",
   "mimetype": "text/x-python",
   "name": "python",
   "nbconvert_exporter": "python",
   "pygments_lexer": "ipython3",
   "version": "3.11.3"
  },
  "orig_nbformat": 4
 },
 "nbformat": 4,
 "nbformat_minor": 2
}
