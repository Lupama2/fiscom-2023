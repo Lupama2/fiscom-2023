{
 "cells": [
  {
   "cell_type": "markdown",
   "metadata": {},
   "source": [
    "## Ejercicio 1\n",
    "\n",
    "\n",
    "Considere el mapeo logístico:\n",
    "$$\n",
    "x_{t+1} = r x_t (1-x_t).\n",
    "$$\n",
    "\n",
    "1. Grafique trayectorias $x_t$ para los siguientes valores del parámetro de control $r$:\n",
    "$$\n",
    "r = 1.5, 2.9, 3.3, 3.5, 3.55, 3.59, 3.83, 4.0.\n",
    "$$\n",
    "Para identificar los atractores, use varias condiciones iniciales para cada valor de $r$, descartando en cada caso el transitorio.\n",
    "* ¿Qué atractor corresponde a cada caso?\n",
    "* Para los atractores caóticos, construya un histograma para caracterizar la distribución de $x$ (observe que el histograma mejora al alargar el tiempo de observación).\n",
    "\n",
    "2. Construya un diagrama cobweb e identifique las primeras bifurcaciones de período (hasta $p$-$8$).\n",
    "* Muestre que el $p$-$2n$ es un punto fijo estable de la iteración $f^{2n}$, donde $f = f(x)$ es el miembro de la derecha del mapeo.\n",
    "* Encuentre analíticamente los valores de $r$ correspondientes a los tres primeros puntos de bifurcación (la desestabilización del $0$, la del punto fijo a $p$-$2$, y la de $p$-$2$ a $p$-$4$).\n",
    "\n",
    "3. Construya un diagrama de bifurcaciones, mostrando los atractores en función del parámetro $r$, con $r \\in (1.0,4.0)$.\n",
    "* Observe que, cerca de los puntos de bifurcación, los transitorios son más largos y es más difícil identificar el atractor. Haga ampliaciones del gráfico con:\n",
    "$$\n",
    "\\begin{align}\n",
    "r& \\in (3.0, 3.678),&&x \\in (0.2722, 0.7287);\n",
    "\\\\\n",
    "r& \\in (3.45122, 3.59383),&& x \\in (0.4105, 0.594);\n",
    "\\\\\n",
    "r& \\in (3.54416, 3.57490),&& x \\in (0.46, 0.5359).\n",
    "\\end{align}\n",
    "$$\n",
    "\n",
    "Tenga en cuenta que tendrá que realizar más iteraciones y refinar los valores de $r$ en cada ventana.\n",
    "\n",
    "4. Calcule y grafique el exponente de Lyapunov para $r \\in (2.5, 4.0)$"
   ]
  },
  {
   "cell_type": "code",
   "execution_count": null,
   "metadata": {},
   "outputs": [],
   "source": []
  }
 ],
 "metadata": {
  "language_info": {
   "name": "python"
  },
  "orig_nbformat": 4
 },
 "nbformat": 4,
 "nbformat_minor": 2
}
