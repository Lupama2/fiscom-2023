{
 "cells": [
  {
   "cell_type": "markdown",
   "metadata": {},
   "source": [
    "## Ejercicio 1\n",
    "\n",
    "La *ecuación de Fisher-Kolmogoroff* combina una dinámica logística (tema que veremos próximamente en más detalle) con un transporte difusivo, en forma de una ecuación de reacción-difusión. En 1D tenemos:\n",
    "$$\n",
    "\\frac{\\partial u}{\\partial t} = r u (1-u) + D \\frac{\\partial^2 u}{\\partial^2 x},\n",
    "$$\n",
    "donde  $u = u(x,t)$.\n",
    "\n",
    "Esta ecuación admite soluciones en forma de ondas viajeras, lo cual es un poco sorprendente, siendo que no es una ecuación de ondas: la derivada temporal del miembro izquierdo es una derivada primera, no segunda. Además, el rol intuitivo de la difusión es el de borronear las inhomogeneidades, ¡no propagarlas! Sin embargo, la acción conjunta del término logístico y el difusivo produce una especie de milagro matemático, y se propaga una onda a velocidad $c = 2 \\sqrt{r D}$, sin cambiar de forma.\n",
    "\n",
    "Analice la evolución de una condición inicial en forma de escalón suave, tipo:\n",
    "$$\n",
    "u (x,0) = \\frac{1}{2} \\biggl( 1 - erf \\Bigl( \\frac{x-x_0}{L} \\Bigr) \\biggr),\n",
    "$$\n",
    "usando al menos dos valores del parámetro de escala espacial $L$.\n",
    "\n",
    "La onda viajará hacia la derecha, así que elija sabiamente el valor de $x_0$, el espacio de integración, y los parámetros $r$ y $D$, para poder verla. Asimismo, defina condiciones de borde compatibles con la condición inicial.\n",
    "\n",
    "1. Use un método FTCS. Dibuje el perfil de la onda viajera a distintos tiempos. ¿Puede usar cualquier valor de $\\Delta x$ y $\\Delta t$? Calcule la velocidad del frente de onda (definiéndolo como le parezca mejor) en función del tiempo.\n",
    "\n",
    "2. ¿Cómo debería ser la condición inicial para que la onda viaje hacia la izquierda?"
   ]
  },
  {
   "cell_type": "code",
   "execution_count": null,
   "metadata": {},
   "outputs": [],
   "source": []
  }
 ],
 "metadata": {
  "language_info": {
   "name": "python"
  },
  "orig_nbformat": 4
 },
 "nbformat": 4,
 "nbformat_minor": 2
}
