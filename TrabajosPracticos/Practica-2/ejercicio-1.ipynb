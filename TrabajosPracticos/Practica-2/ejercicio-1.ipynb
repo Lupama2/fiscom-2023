{
 "cells": [
  {
   "cell_type": "markdown",
   "metadata": {},
   "source": [
    "## Ejercicio 1\n",
    "\n",
    "La *ecuación de Fisher-Kolmogoroff* combina una dinámica logística (tema que veremos próximamente en más detalle) con un transporte difusivo, en forma de una ecuación de reacción-difusión. En 1D tenemos:\n",
    "$$\n",
    "\\frac{\\partial u}{\\partial t} = r u (1-u) + D \\frac{\\partial^2 u}{\\partial^2 x},\n",
    "$$\n",
    "donde  $u = u(x,t)$.\n",
    "\n",
    "Esta ecuación admite soluciones en forma de ondas viajeras, lo cual es un poco sorprendente, siendo que no es una ecuación de ondas: la derivada temporal del miembro izquierdo es una derivada primera, no segunda. Además, el rol intuitivo de la difusión es el de borronear las inhomogeneidades, ¡no propagarlas! Sin embargo, la acción conjunta del término logístico y el difusivo produce una especie de milagro matemático, y se propaga una onda a velocidad $c = 2 \\sqrt{r D}$, sin cambiar de forma.\n",
    "\n",
    "Analice la evolución de una condición inicial en forma de escalón suave, tipo:\n",
    "$$\n",
    "u (x,0) = \\frac{1}{2} \\biggl( 1 - erf \\Bigl( \\frac{x-x_0}{L} \\Bigr) \\biggr),\n",
    "$$\n",
    "usando al menos dos valores del parámetro de escala espacial $L$.\n",
    "\n",
    "La onda viajará hacia la derecha, así que elija sabiamente el valor de $x_0$, el espacio de integración, y los parámetros $r$ y $D$, para poder verla. Asimismo, defina condiciones de borde compatibles con la condición inicial.\n",
    "\n",
    "1. Use un método FTCS. Dibuje el perfil de la onda viajera a distintos tiempos. ¿Puede usar cualquier valor de $\\Delta x$ y $\\Delta t$? Calcule la velocidad del frente de onda (definiéndolo como le parezca mejor) en función del tiempo.\n",
    "\n",
    "2. ¿Cómo debería ser la condición inicial para que la onda viaje hacia la izquierda?"
   ]
  },
  {
   "cell_type": "code",
   "execution_count": null,
   "metadata": {},
   "outputs": [],
   "source": []
  },
  {
   "cell_type": "markdown",
   "metadata": {},
   "source": [
    "El método FTCS consta de emplear el esquema hacia adelante en el tiempo\n",
    "$$\n",
    "\\frac{\\partial u}{\\partial t}  = \\frac{u^{n+1}_i - u^n_i}{\\Delta t}\n",
    "$$\n",
    "y el centrado en el espacio\n",
    " $$\n",
    "\\frac{\\partial^2 u(x,t)}{\\partial x^2} = \\frac{u(x+\\Delta x,t)+ u(x-\\Delta x,t) -2 u(x,t)}{\\Delta x^2} + \\mathcal{O}(\\Delta x^2).\n",
    " $$\n",
    "\n",
    "de modo que la ecuación\n",
    "$$\n",
    "\\frac{\\partial u}{\\partial t} = r u (1-u) + D \\frac{\\partial^2 u}{\\partial^2 x},\n",
    "$$\n",
    "queda\n",
    "$$\n",
    "\\frac{u^{n+1}_i - u^n_i}{\\Delta t} = r u^{n}_i (1 - u^n_i) + D \\frac{u_{i+1}^n + u^n_{i-1} -2 u^n_i}{\\Delta x^2}\n",
    "$$"
   ]
  },
  {
   "cell_type": "markdown",
   "metadata": {},
   "source": [
    "despejando $ u_i^{n+1} $ tenemos\n",
    "$$\n",
    "u^{n+1}_i = u^n_i + \\Delta t \\left [ r u^{n}_i (1 - u^n_i) + D \\frac{u_{i+1}^n + u^n_{i-1} -2 u^n_i}{\\Delta x^2} \\right ]\n",
    "$$"
   ]
  },
  {
   "cell_type": "code",
   "execution_count": 2,
   "metadata": {},
   "outputs": [],
   "source": [
    "#Import librearies\n",
    "import numpy as np\n",
    "import matplotlib.pyplot as plt\n",
    "# from ipywidgets import interact\n"
   ]
  },
  {
   "cell_type": "code",
   "execution_count": 3,
   "metadata": {},
   "outputs": [],
   "source": [
    "def u0(x, x0, L):\n",
    "    '''\n",
    "    Condición inicial\n",
    "    '''\n",
    "    if type(x) == np.ndarray:\n",
    "        u0_vec = np.empty(len(x))\n",
    "        for i in range(len(x)):\n",
    "            u0_vec[i] = 1/2*(1-erf((x[i]-x0)/L))\n",
    "        return u0_vec\n",
    "    else:\n",
    "        return 1/2*(1-erf((x-x0)/L))\n",
    "\n"
   ]
  },
  {
   "cell_type": "code",
   "execution_count": 4,
   "metadata": {},
   "outputs": [
    {
     "data": {
      "text/plain": [
       "[<matplotlib.lines.Line2D at 0x2c5dc8f7f50>]"
      ]
     },
     "execution_count": 4,
     "metadata": {},
     "output_type": "execute_result"
    },
    {
     "data": {
      "image/png": "[encoded data removed]",
      "text/plain": [
       "<Figure size 640x480 with 1 Axes>"
      ]
     },
     "metadata": {},
     "output_type": "display_data"
    }
   ],
   "source": [
    "#Initial condicion with particular set of parameters\n",
    "L = 1\n",
    "x0 = 0.1\n",
    "M = 100 #nro de elementos en la discretización\n",
    "\n",
    "x_vec = np.linspace(0,L,M)\n",
    "u0_vec = u0(x_vec, x0, L)\n",
    "\n",
    "#Graph\n",
    "plt.plot(x_vec, u0_vec)"
   ]
  },
  {
   "cell_type": "code",
   "execution_count": 8,
   "metadata": {},
   "outputs": [
    {
     "data": {
      "application/vnd.jupyter.widget-view+json": {
       "model_id": "bb8d21a9c6204994b857302528cc7cfd",
       "version_major": 2,
       "version_minor": 0
      },
      "text/plain": [
       "interactive(children=(FloatSlider(value=5.0, description='x0', max=5.0, min=-5.0), FloatSlider(value=2.0, desc…"
      ]
     },
     "metadata": {},
     "output_type": "display_data"
    },
    {
     "data": {
      "text/plain": [
       "<function __main__.plot_u0(x0=0.1, L=1)>"
      ]
     },
     "execution_count": 8,
     "metadata": {},
     "output_type": "execute_result"
    }
   ],
   "source": [
    "import ipywidgets as widgets\n",
    "from IPython.display import display, clear_output\n",
    "import numpy as np\n",
    "import matplotlib.pyplot as plt\n",
    "\n",
    "def plot_u0(x0=0.1, L=1):\n",
    "    M = 1000\n",
    "    x_vec = np.linspace(-10, 10, M)\n",
    "    u0_vec = u0(x_vec, x0, L)  # Assuming you have defined the u0 function elsewhere\n",
    "\n",
    "    clear_output(wait=True)  # Clear the previous plot\n",
    "    plt.plot(x_vec, u0_vec)\n",
    "    plt.xlabel('x')\n",
    "    plt.ylabel('u0')\n",
    "    plt.title('Grafica de u0')\n",
    "    plt.xlim([-10,10])\n",
    "    plt.ylim([0,2])\n",
    "\n",
    "    plt.show()\n",
    "\n",
    "    # Redisplay the sliders after clearing the output\n",
    "    # display(widgets.interactive(plot_u0, x0=widgets.FloatSlider(min=-5, max=5, step=0.1, value=5), L=widgets.FloatSlider(min=1, max=4, step=0.1, value=2)))\n",
    "\n",
    "# Initially display the sliders and the plot\n",
    "widgets.interact(plot_u0, x0=widgets.FloatSlider(min=-5, max=5, step=0.1, value=5), L=widgets.FloatSlider(min=1, max=4, step=0.1, value=2))\n",
    "\n",
    "\n",
    "# interact(plot_u0, x0=(0, 5, 0.1), )\n"
   ]
  },
  {
   "cell_type": "code",
   "execution_count": 6,
   "metadata": {},
   "outputs": [],
   "source": [
    "\n",
    "def FTCS(u_previo, u_actual, u_posterior, dt, dx, D, r):\n",
    "    '''\n",
    "    Esquema de evolución\n",
    "\n",
    "    con\n",
    "    u_previo = u^n_{j-1}\n",
    "    u_actual = u^n_{j}\n",
    "    u_posterior = u^n_{j+1}\n",
    "\n",
    "    '''\n",
    "\n",
    "    \n",
    "\n",
    "def solver_dt(u0_vec, dt, dx, D, r):\n",
    "    '''\n",
    "    Avanza la solución en una unidad de tiempo\n",
    "    '''\n",
    "    pass\n",
    "\n",
    "def solver(u0_vec, T, dt, dx, D, r):\n",
    "    '''\n",
    "    Avanza la solución hasta tiempo T\n",
    "    '''"
   ]
  },
  {
   "cell_type": "code",
   "execution_count": 7,
   "metadata": {},
   "outputs": [],
   "source": [
    "#Resuelvo para un caso particular\n",
    "D = 1\n",
    "r = 1\n",
    "dt = 0.1\n",
    "dx = 0.1\n"
   ]
  }
 ],
 "metadata": {
  "kernelspec": {
   "display_name": "FISCOM2023",
   "language": "python",
   "name": "python3"
  },
  "language_info": {
   "codemirror_mode": {
    "name": "ipython",
    "version": 3
   },
   "file_extension": ".py",
   "mimetype": "text/x-python",
   "name": "python",
   "nbconvert_exporter": "python",
   "pygments_lexer": "ipython3",
   "version": "3.11.4"
  },
  "orig_nbformat": 4
 },
 "nbformat": 4,
 "nbformat_minor": 2
}
